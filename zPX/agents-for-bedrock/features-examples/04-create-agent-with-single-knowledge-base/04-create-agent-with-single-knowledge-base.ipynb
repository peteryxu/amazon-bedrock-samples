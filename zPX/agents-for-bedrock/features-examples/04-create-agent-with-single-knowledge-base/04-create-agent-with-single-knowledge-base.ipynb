{
 "cells": [
  {
   "cell_type": "markdown",
   "id": "a0bb5c39-2fde-4336-8127-8debe7cb2741",
   "metadata": {
    "pycharm": {
     "name": "#%% md\n"
    }
   },
   "source": [
    "# Create an Agent with a single Knowledge Base only\n",
    "\n",
    "In this notebook you will learn how to create an Amazon Bedrock Agent that connects to a single Knowledge Bases for Amazon Bedrock to retrieve company data and complete tasks. \n",
    "\n",
    "The use case for this notebook is the Amazon Bedrock Documentation pages stored as PDFs. It will allow you to ask questions about Amazon Bedrock and get answers based on documents available in the Knowledge Base.\n",
    "\n",
    "The steps to complete this notebook are:\n",
    "\n",
    "1. Import the needed libraries\n",
    "1. Create an S3 bucket and upload the data to it\n",
    "1. Create the Knowledge Base for Amazon Bedrock and sync data to Knowledge Base\n",
    "1. Create the Agent for Amazon Bedrock\n",
    "1. Test the Agent\n",
    "1. Clean up the resources created"
   ]
  },
  {
   "cell_type": "markdown",
   "id": "076a5aba-9735-4e98-8a53-0daccd7e94b0",
   "metadata": {
    "pycharm": {
     "name": "#%% md\n"
    }
   },
   "source": [
    "## 1. Import the needed libraries"
   ]
  },
  {
   "cell_type": "code",
   "execution_count": 1,
   "id": "ac05c073-d45b-4d85-9bf8-ae10aa78be8d",
   "metadata": {
    "pycharm": {
     "name": "#%%\n"
    },
    "tags": []
   },
   "outputs": [],
   "source": [
    "!pip install --upgrade -q opensearch-py\n",
    "!pip install --upgrade -q requests-aws4auth\n",
    "!pip install --upgrade -q boto3\n",
    "!pip install --upgrade -q botocore\n",
    "#!pip install --upgrade -q awscli"
   ]
  },
  {
   "cell_type": "code",
   "execution_count": 2,
   "id": "e8ad6ec2-b283-4c5d-879f-e397e46568c0",
   "metadata": {
    "pycharm": {
     "name": "#%%\n"
    },
    "tags": []
   },
   "outputs": [],
   "source": [
    "import logging\n",
    "import boto3\n",
    "import time\n",
    "import json\n",
    "import uuid\n",
    "import pprint\n",
    "import os\n",
    "from opensearchpy import OpenSearch, RequestsHttpConnection\n",
    "from requests_aws4auth import AWS4Auth"
   ]
  },
  {
   "cell_type": "code",
   "execution_count": 3,
   "id": "d2b2d607-c1f2-4cbb-9f89-d935676e0101",
   "metadata": {
    "pycharm": {
     "name": "#%%\n"
    },
    "tags": []
   },
   "outputs": [],
   "source": [
    "# setting logger\n",
    "logging.basicConfig(format='[%(asctime)s] p%(process)s {%(filename)s:%(lineno)d} %(levelname)s - %(message)s', level=logging.INFO)\n",
    "logger = logging.getLogger(__name__)"
   ]
  },
  {
   "cell_type": "code",
   "execution_count": 4,
   "id": "ec5d7363-f715-4849-968b-cd4eb5fae3b0",
   "metadata": {
    "pycharm": {
     "name": "#%%\n"
    },
    "tags": []
   },
   "outputs": [
    {
     "name": "stderr",
     "output_type": "stream",
     "text": [
      "[2024-10-03 11:03:35,461] p1019363 {credentials.py:1147} INFO - Found credentials in environment variables.\n"
     ]
    }
   ],
   "source": [
    "# getting boto3 clients for required AWS services\n",
    "sts_client = boto3.client('sts')\n",
    "iam_client = boto3.client('iam')\n",
    "s3_client = boto3.client('s3')\n",
    "lambda_client = boto3.client('lambda')\n",
    "bedrock_agent_client = boto3.client('bedrock-agent')\n",
    "bedrock_agent_runtime_client = boto3.client('bedrock-agent-runtime')\n",
    "open_search_serverless_client = boto3.client('opensearchserverless')"
   ]
  },
  {
   "cell_type": "code",
   "execution_count": 5,
   "id": "c5ab4b38-bb05-4771-9c29-6e48602b3244",
   "metadata": {
    "pycharm": {
     "name": "#%%\n"
    },
    "tags": []
   },
   "outputs": [
    {
     "data": {
      "text/plain": [
       "('us-east-1', '864981754328')"
      ]
     },
     "execution_count": 5,
     "metadata": {},
     "output_type": "execute_result"
    }
   ],
   "source": [
    "session = boto3.session.Session()\n",
    "region = session.region_name\n",
    "account_id = sts_client.get_caller_identity()[\"Account\"]\n",
    "region, account_id"
   ]
  },
  {
   "cell_type": "code",
   "execution_count": 6,
   "id": "ec1c499b-a834-4928-92c9-0091ae0d381b",
   "metadata": {
    "pycharm": {
     "name": "#%%\n"
    },
    "tags": []
   },
   "outputs": [],
   "source": [
    "# Generate random prefix for unique IAM roles, agent name and S3 Bucket and \n",
    "# assign variables\n",
    "suffix = f\"{region}-{account_id}\"\n",
    "agent_name = \"bedrock-docs-kb-agents\"\n",
    "agent_alias_name = \"bedrock-docs-alias\"\n",
    "bucket_name = f'{agent_name}-{suffix}'\n",
    "bucket_arn = f\"arn:aws:s3:::{bucket_name}\"\n",
    "bedrock_agent_bedrock_allow_policy_name = f\"bda-bedrock-allow-{suffix}\"\n",
    "bedrock_agent_s3_allow_policy_name = f\"bda-s3-allow-{suffix}\"\n",
    "bedrock_agent_kb_allow_policy_name = f\"bda-kb-allow-{suffix}\"\n",
    "agent_role_name = f'AmazonBedrockExecutionRoleForAgents_bedrock_docs'\n",
    "kb_name = f'bedrock-docs-kb-{suffix}'\n",
    "data_source_name = f'bedrock-docs-kb-docs-{suffix}'\n",
    "kb_files_path = 'kb_documents'\n",
    "kb_key = 'kb_documents'\n",
    "kb_role_name = f'AmazonBedrockExecutionRoleForKnowledgeBase_bedrock_docs'\n",
    "kb_bedrock_allow_policy_name = f\"bd-kb-bedrock-allow-{suffix}\"\n",
    "kb_aoss_allow_policy_name = f\"bd-kb-aoss-allow-{suffix}\"\n",
    "kb_s3_allow_policy_name = f\"bd-kb-s3-allow-{suffix}\"\n",
    "kb_collection_name = f'bd-kbc-{suffix}'\n",
    "# Select Amazon titan as the embedding model\n",
    "embedding_model_arn = f'arn:aws:bedrock:{region}::foundation-model/amazon.titan-embed-text-v1'\n",
    "kb_vector_index_name = \"bedrock-knowledge-base-index\"\n",
    "kb_metadataField = 'bedrock-knowledge-base-metadata'\n",
    "kb_textField = 'bedrock-knowledge-base-text'\n",
    "kb_vectorField = 'bedrock-knowledge-base-vector'\n",
    "model_id = \"anthropic.claude-3-sonnet-20240229-v1:0\"\n",
    "\n",
    "# agent configuration\n",
    "agent_instruction = \"\"\"\n",
    "You are an agent that support users working with Amazon Bedrock. You have access to Bedrock's documentation in a Knowledge Base\n",
    "and you can Answer questions from this documentation. Only answer questions based on the documentation and reply with \n",
    "\"There is no information about your question on the Amazon Bedrock Documentation at the moment, sorry! Do you want to ask another question?\" \n",
    "If the answer to the question is not available in the documentation\n",
    "\"\"\""
   ]
  },
  {
   "cell_type": "markdown",
   "id": "c6b5819d-93a9-44d3-8eaa-5ed1da6a8c95",
   "metadata": {
    "pycharm": {
     "name": "#%% md\n"
    }
   },
   "source": [
    "## 2. Upload the dataset to Amazon S3\n",
    "Knowledge Bases for Amazon Bedrock, currently require data to reside in an Amazon S3 bucket. In this section we will create an Amazon S3 bucket and the files."
   ]
  },
  {
   "cell_type": "markdown",
   "id": "bdc17ae4-3dce-43c4-b79d-ed6884beb7a1",
   "metadata": {
    "pycharm": {
     "name": "#%% md\n"
    }
   },
   "source": [
    "### 2.1 Create the Amazon S3 bucket"
   ]
  },
  {
   "cell_type": "code",
   "execution_count": 7,
   "id": "976cc565-4f58-4284-88eb-dd9498c31958",
   "metadata": {
    "pycharm": {
     "name": "#%%\n"
    },
    "tags": []
   },
   "outputs": [],
   "source": [
    "if region != 'us-east-1':\n",
    "    s3_client.create_bucket(\n",
    "        Bucket=bucket_name.lower(),\n",
    "        CreateBucketConfiguration={'LocationConstraint': region}\n",
    "    )\n",
    "else:\n",
    "    s3_client.create_bucket(Bucket=bucket_name)"
   ]
  },
  {
   "cell_type": "markdown",
   "id": "b7c7a720-5586-4e4b-8a29-2ef17a1cf07a",
   "metadata": {
    "pycharm": {
     "name": "#%% md\n"
    }
   },
   "source": [
    "### 2.2 Upload dataset to the Amazon S3 bucket"
   ]
  },
  {
   "cell_type": "code",
   "execution_count": 8,
   "id": "321c127d-a82a-49a5-b939-32d289376125",
   "metadata": {
    "pycharm": {
     "name": "#%%\n"
    },
    "tags": []
   },
   "outputs": [],
   "source": [
    "# Upload Knowledge Base files to this s3 bucket\n",
    "for f in os.listdir(kb_files_path):\n",
    "    if f.endswith(\".pdf\"):\n",
    "        s3_client.upload_file(kb_files_path+'/'+f, bucket_name, kb_key+'/'+f)"
   ]
  },
  {
   "cell_type": "markdown",
   "id": "6ad39aa6-42bf-4146-9f87-fbb18f674326",
   "metadata": {
    "pycharm": {
     "name": "#%% md\n"
    }
   },
   "source": [
    "## 3. Create a Knowledge Base for Amazon Bedrock\n",
    "\n",
    "In this section we will go through all the steps to create and test a Knowledge Base. \n",
    "\n",
    "These are the steps to complete:\n",
    "    \n",
    "1. Create a Knowledge Base Role and its policies\n",
    "1. Create a Vector Database\n",
    "1. Create an OpenSearch Index\n",
    "1. Create a Knowledge Base\n",
    "1. Create a data source and attach to the recently created Knowledge Base\n",
    "1. Ingest data to your knowledge Base"
   ]
  },
  {
   "cell_type": "markdown",
   "id": "4d3d808e-81ae-4205-9ac1-362bbb45d96e",
   "metadata": {
    "pycharm": {
     "name": "#%% md\n"
    }
   },
   "source": [
    "### 3.1 Create Knowledge Base Role and Policies\n",
    "\n",
    "Let's first create IAM policies to allow our Knowledge Base to access Bedrock Titan Embedding Foundation model, Amazon OpenSearch Serverless and the S3 bucket with the Knowledge Base Files.\n",
    "\n",
    "Once the policies are ready, we will create the Knowledge Base role"
   ]
  },
  {
   "cell_type": "code",
   "execution_count": 9,
   "id": "be047c6d-6d35-414e-915c-e2eec9c656eb",
   "metadata": {
    "pycharm": {
     "name": "#%%\n"
    },
    "tags": []
   },
   "outputs": [],
   "source": [
    "# Create IAM policies for KB to invoke embedding model\n",
    "bedrock_kb_allow_fm_model_policy_statement = {\n",
    "    \"Version\": \"2012-10-17\",\n",
    "    \"Statement\": [\n",
    "        {\n",
    "            \"Sid\": \"AmazonBedrockAgentBedrockFoundationModelPolicy\",\n",
    "            \"Effect\": \"Allow\",\n",
    "            \"Action\": \"bedrock:InvokeModel\",\n",
    "            \"Resource\": [\n",
    "                embedding_model_arn\n",
    "            ]\n",
    "        }\n",
    "    ]\n",
    "}\n",
    "\n",
    "kb_bedrock_policy_json = json.dumps(bedrock_kb_allow_fm_model_policy_statement)\n",
    "\n",
    "kb_bedrock_policy = iam_client.create_policy(\n",
    "    PolicyName=kb_bedrock_allow_policy_name,\n",
    "    PolicyDocument=kb_bedrock_policy_json\n",
    ")"
   ]
  },
  {
   "cell_type": "code",
   "execution_count": 10,
   "id": "f140db46-1383-4a91-8529-e2193a28675d",
   "metadata": {
    "pycharm": {
     "name": "#%%\n"
    },
    "tags": []
   },
   "outputs": [],
   "source": [
    "# Create IAM policies for KB to access OpenSearch Serverless\n",
    "bedrock_kb_allow_aoss_policy_statement = {\n",
    "    \"Version\": \"2012-10-17\",\n",
    "    \"Statement\": [\n",
    "        {\n",
    "            \"Effect\": \"Allow\",\n",
    "            \"Action\": \"aoss:APIAccessAll\",\n",
    "            \"Resource\": [\n",
    "                f\"arn:aws:aoss:{region}:{account_id}:collection/*\"\n",
    "            ]\n",
    "        }\n",
    "    ]\n",
    "}\n",
    "\n",
    "\n",
    "kb_aoss_policy_json = json.dumps(bedrock_kb_allow_aoss_policy_statement)\n",
    "\n",
    "kb_aoss_policy = iam_client.create_policy(\n",
    "    PolicyName=kb_aoss_allow_policy_name,\n",
    "    PolicyDocument=kb_aoss_policy_json\n",
    ")"
   ]
  },
  {
   "cell_type": "code",
   "execution_count": 11,
   "id": "ecedf40d-b99d-477d-92b2-2144524b4bdb",
   "metadata": {
    "pycharm": {
     "name": "#%%\n"
    },
    "tags": []
   },
   "outputs": [],
   "source": [
    "kb_s3_allow_policy_statement = {\n",
    "    \"Version\": \"2012-10-17\",\n",
    "    \"Statement\": [\n",
    "        {\n",
    "            \"Sid\": \"AllowKBAccessDocuments\",\n",
    "            \"Effect\": \"Allow\",\n",
    "            \"Action\": [\n",
    "                \"s3:GetObject\",\n",
    "                \"s3:ListBucket\"\n",
    "            ],\n",
    "            \"Resource\": [\n",
    "                f\"arn:aws:s3:::{bucket_name}/*\",\n",
    "                f\"arn:aws:s3:::{bucket_name}\"\n",
    "            ],\n",
    "            \"Condition\": {\n",
    "                \"StringEquals\": {\n",
    "                    \"aws:ResourceAccount\": f\"{account_id}\"\n",
    "                }\n",
    "            }\n",
    "        }\n",
    "    ]\n",
    "}\n",
    "\n",
    "\n",
    "kb_s3_json = json.dumps(kb_s3_allow_policy_statement)\n",
    "kb_s3_policy = iam_client.create_policy(\n",
    "    PolicyName=kb_s3_allow_policy_name,\n",
    "    PolicyDocument=kb_s3_json\n",
    ")"
   ]
  },
  {
   "cell_type": "code",
   "execution_count": 12,
   "id": "1b568014-8a84-4aa7-b385-e0b7cc63a9ec",
   "metadata": {
    "pycharm": {
     "name": "#%%\n"
    },
    "tags": []
   },
   "outputs": [
    {
     "data": {
      "text/plain": [
       "{'ResponseMetadata': {'RequestId': '7e3f601c-0a51-4d31-a358-8e0e44d1a2ce',\n",
       "  'HTTPStatusCode': 200,\n",
       "  'HTTPHeaders': {'date': 'Thu, 03 Oct 2024 15:07:17 GMT',\n",
       "   'x-amzn-requestid': '7e3f601c-0a51-4d31-a358-8e0e44d1a2ce',\n",
       "   'content-type': 'text/xml',\n",
       "   'content-length': '212'},\n",
       "  'RetryAttempts': 0}}"
      ]
     },
     "execution_count": 12,
     "metadata": {},
     "output_type": "execute_result"
    }
   ],
   "source": [
    "# Create IAM Role for the agent and attach IAM policies\n",
    "assume_role_policy_document = {\n",
    "    \"Version\": \"2012-10-17\",\n",
    "    \"Statement\": [{\n",
    "          \"Effect\": \"Allow\",\n",
    "          \"Principal\": {\n",
    "            \"Service\": \"bedrock.amazonaws.com\"\n",
    "          },\n",
    "          \"Action\": \"sts:AssumeRole\"\n",
    "    }]\n",
    "}\n",
    "\n",
    "assume_role_policy_document_json = json.dumps(assume_role_policy_document)\n",
    "kb_role = iam_client.create_role(\n",
    "    RoleName=kb_role_name,\n",
    "    AssumeRolePolicyDocument=assume_role_policy_document_json\n",
    ")\n",
    "\n",
    "# Pause to make sure role is created\n",
    "time.sleep(10)\n",
    "    \n",
    "iam_client.attach_role_policy(\n",
    "    RoleName=kb_role_name,\n",
    "    PolicyArn=kb_bedrock_policy['Policy']['Arn']\n",
    ")\n",
    "\n",
    "iam_client.attach_role_policy(\n",
    "    RoleName=kb_role_name,\n",
    "    PolicyArn=kb_aoss_policy['Policy']['Arn']\n",
    ")\n",
    "\n",
    "iam_client.attach_role_policy(\n",
    "    RoleName=kb_role_name,\n",
    "    PolicyArn=kb_s3_policy['Policy']['Arn']\n",
    ")"
   ]
  },
  {
   "cell_type": "code",
   "execution_count": 13,
   "id": "402c9ba1-f46b-4f54-aae0-0aefe9713325",
   "metadata": {
    "pycharm": {
     "name": "#%%\n"
    },
    "tags": []
   },
   "outputs": [
    {
     "data": {
      "text/plain": [
       "'arn:aws:iam::864981754328:role/AmazonBedrockExecutionRoleForKnowledgeBase_bedrock_docs'"
      ]
     },
     "execution_count": 13,
     "metadata": {},
     "output_type": "execute_result"
    }
   ],
   "source": [
    "kb_role_arn = kb_role[\"Role\"][\"Arn\"]\n",
    "kb_role_arn"
   ]
  },
  {
   "cell_type": "markdown",
   "id": "65680beb-9562-4ed0-b354-86588a84a5e8",
   "metadata": {
    "pycharm": {
     "name": "#%% md\n"
    }
   },
   "source": [
    "### 3.2 Create Vector Database\n",
    "\n",
    "Firt of all we have to create a vector store. In this section we will use Amazon OpenSerach Serverless.\n",
    "\n",
    "Amazon OpenSearch Serverless is a serverless option in Amazon OpenSearch Service. As a developer, you can use OpenSearch Serverless to run petabyte-scale workloads without configuring, managing, and scaling OpenSearch clusters. You get the same interactive millisecond response times as OpenSearch Service with the simplicity of a serverless environment. Pay only for what you use by automatically scaling resources to provide the right amount of capacity for your application—without impacting data ingestion.\n"
   ]
  },
  {
   "cell_type": "code",
   "execution_count": 14,
   "id": "83ce2ee2-d9f7-463a-ab77-2fda11a72328",
   "metadata": {
    "pycharm": {
     "name": "#%%\n"
    },
    "tags": []
   },
   "outputs": [],
   "source": [
    "# Create OpenSearch Collection\n",
    "security_policy_json = {\n",
    "    \"Rules\": [\n",
    "        {\n",
    "            \"ResourceType\": \"collection\",\n",
    "            \"Resource\":[\n",
    "                f\"collection/{kb_collection_name}\"\n",
    "            ]\n",
    "        }\n",
    "    ],\n",
    "    \"AWSOwnedKey\": True\n",
    "}\n",
    "security_policy = open_search_serverless_client.create_security_policy(\n",
    "    description='security policy of aoss collection',\n",
    "    name=kb_collection_name,\n",
    "    policy=json.dumps(security_policy_json),\n",
    "    type='encryption'\n",
    ")"
   ]
  },
  {
   "cell_type": "code",
   "execution_count": 15,
   "id": "b1009572-4481-46ae-a733-eb82e38abc2f",
   "metadata": {
    "pycharm": {
     "name": "#%%\n"
    },
    "tags": []
   },
   "outputs": [],
   "source": [
    "network_policy_json = [\n",
    "  {\n",
    "    \"Rules\": [\n",
    "      {\n",
    "        \"Resource\": [\n",
    "          f\"collection/{kb_collection_name}\"\n",
    "        ],\n",
    "        \"ResourceType\": \"dashboard\"\n",
    "      },\n",
    "      {\n",
    "        \"Resource\": [\n",
    "          f\"collection/{kb_collection_name}\"\n",
    "        ],\n",
    "        \"ResourceType\": \"collection\"\n",
    "      }\n",
    "    ],\n",
    "    \"AllowFromPublic\": True\n",
    "  }\n",
    "]\n",
    "\n",
    "network_policy = open_search_serverless_client.create_security_policy(\n",
    "    description='network policy of aoss collection',\n",
    "    name=kb_collection_name,\n",
    "    policy=json.dumps(network_policy_json),\n",
    "    type='network'\n",
    ")"
   ]
  },
  {
   "cell_type": "code",
   "execution_count": 16,
   "id": "21f99ce9-140f-421e-b75b-9c2038d8ce18",
   "metadata": {
    "pycharm": {
     "name": "#%%\n"
    },
    "tags": []
   },
   "outputs": [
    {
     "data": {
      "text/plain": [
       "'arn:aws:iam::864981754328:user/peteryxu'"
      ]
     },
     "execution_count": 16,
     "metadata": {},
     "output_type": "execute_result"
    }
   ],
   "source": [
    "response = sts_client.get_caller_identity()\n",
    "current_role = response['Arn']\n",
    "current_role"
   ]
  },
  {
   "cell_type": "code",
   "execution_count": 17,
   "id": "de34fcff-94d6-48f2-b309-cb2ac9d89c49",
   "metadata": {
    "pycharm": {
     "name": "#%%\n"
    },
    "tags": []
   },
   "outputs": [],
   "source": [
    "data_policy_json = [\n",
    "  {\n",
    "    \"Rules\": [\n",
    "      {\n",
    "        \"Resource\": [\n",
    "          f\"collection/{kb_collection_name}\"\n",
    "        ],\n",
    "        \"Permission\": [\n",
    "          \"aoss:DescribeCollectionItems\",\n",
    "          \"aoss:CreateCollectionItems\",\n",
    "          \"aoss:UpdateCollectionItems\",\n",
    "          \"aoss:DeleteCollectionItems\"\n",
    "        ],\n",
    "        \"ResourceType\": \"collection\"\n",
    "      },\n",
    "      {\n",
    "        \"Resource\": [\n",
    "          f\"index/{kb_collection_name}/*\"\n",
    "        ],\n",
    "        \"Permission\": [\n",
    "            \"aoss:CreateIndex\",\n",
    "            \"aoss:DeleteIndex\",\n",
    "            \"aoss:UpdateIndex\",\n",
    "            \"aoss:DescribeIndex\",\n",
    "            \"aoss:ReadDocument\",\n",
    "            \"aoss:WriteDocument\"\n",
    "        ],\n",
    "        \"ResourceType\": \"index\"\n",
    "      }\n",
    "    ],\n",
    "    \"Principal\": [\n",
    "        kb_role_arn,\n",
    "        f\"arn:aws:sts::{account_id}:assumed-role/Admin/*\",\n",
    "        current_role\n",
    "    ],\n",
    "    \"Description\": \"\"\n",
    "  }\n",
    "]\n",
    "\n",
    "data_policy = open_search_serverless_client.create_access_policy(\n",
    "    description='data access policy for aoss collection',\n",
    "    name=kb_collection_name,\n",
    "    policy=json.dumps(data_policy_json),\n",
    "    type='data'\n",
    ")\n"
   ]
  },
  {
   "cell_type": "code",
   "execution_count": 18,
   "id": "15624c92-e657-4905-954b-c085307bcb14",
   "metadata": {
    "pycharm": {
     "name": "#%%\n"
    },
    "tags": []
   },
   "outputs": [
    {
     "data": {
      "text/plain": [
       "{'createCollectionDetail': {'arn': 'arn:aws:aoss:us-east-1:864981754328:collection/ltwjvxkrsohpvjj1818c',\n",
       "  'createdDate': 1727968405481,\n",
       "  'description': 'OpenSearch collection for Amazon Bedrock Knowledge Base',\n",
       "  'id': 'ltwjvxkrsohpvjj1818c',\n",
       "  'kmsKeyArn': 'auto',\n",
       "  'lastModifiedDate': 1727968405481,\n",
       "  'name': 'bd-kbc-us-east-1-864981754328',\n",
       "  'standbyReplicas': 'DISABLED',\n",
       "  'status': 'CREATING',\n",
       "  'type': 'VECTORSEARCH'},\n",
       " 'ResponseMetadata': {'RequestId': 'f349e119-5a8d-4d9a-96b9-b9ff4920d2d0',\n",
       "  'HTTPStatusCode': 200,\n",
       "  'HTTPHeaders': {'x-amzn-requestid': 'f349e119-5a8d-4d9a-96b9-b9ff4920d2d0',\n",
       "   'date': 'Thu, 03 Oct 2024 15:13:25 GMT',\n",
       "   'content-type': 'application/x-amz-json-1.0',\n",
       "   'content-length': '394',\n",
       "   'connection': 'keep-alive'},\n",
       "  'RetryAttempts': 0}}"
      ]
     },
     "execution_count": 18,
     "metadata": {},
     "output_type": "execute_result"
    }
   ],
   "source": [
    "opensearch_collection_response = open_search_serverless_client.create_collection(\n",
    "    description='OpenSearch collection for Amazon Bedrock Knowledge Base',\n",
    "    name=kb_collection_name,\n",
    "    standbyReplicas='DISABLED',\n",
    "    type='VECTORSEARCH'\n",
    ")\n",
    "opensearch_collection_response"
   ]
  },
  {
   "cell_type": "code",
   "execution_count": 19,
   "id": "5acb0d1d-8813-4a36-b4e0-176116504c7f",
   "metadata": {
    "pycharm": {
     "name": "#%%\n"
    },
    "tags": []
   },
   "outputs": [
    {
     "data": {
      "text/plain": [
       "'arn:aws:aoss:us-east-1:864981754328:collection/ltwjvxkrsohpvjj1818c'"
      ]
     },
     "execution_count": 19,
     "metadata": {},
     "output_type": "execute_result"
    }
   ],
   "source": [
    "collection_arn = opensearch_collection_response[\"createCollectionDetail\"][\"arn\"]\n",
    "collection_arn"
   ]
  },
  {
   "cell_type": "code",
   "execution_count": 20,
   "id": "6d3b9036-1843-479d-aa36-1756f8e4da92",
   "metadata": {
    "pycharm": {
     "name": "#%%\n"
    },
    "tags": []
   },
   "outputs": [
    {
     "name": "stdout",
     "output_type": "stream",
     "text": [
      "\n",
      "Collection successfully created:\n",
      "[{'arn': 'arn:aws:aoss:us-east-1:864981754328:collection/ltwjvxkrsohpvjj1818c', 'collectionEndpoint': 'https://ltwjvxkrsohpvjj1818c.us-east-1.aoss.amazonaws.com', 'createdDate': 1727968405481, 'dashboardEndpoint': 'https://ltwjvxkrsohpvjj1818c.us-east-1.aoss.amazonaws.com/_dashboards', 'description': 'OpenSearch collection for Amazon Bedrock Knowledge Base', 'id': 'ltwjvxkrsohpvjj1818c', 'kmsKeyArn': 'auto', 'lastModifiedDate': 1727968642496, 'name': 'bd-kbc-us-east-1-864981754328', 'standbyReplicas': 'DISABLED', 'status': 'ACTIVE', 'type': 'VECTORSEARCH'}]\n"
     ]
    },
    {
     "data": {
      "text/plain": [
       "'ltwjvxkrsohpvjj1818c.us-east-1.aoss.amazonaws.com'"
      ]
     },
     "execution_count": 20,
     "metadata": {},
     "output_type": "execute_result"
    }
   ],
   "source": [
    "# wait for collection creation\n",
    "response = open_search_serverless_client.batch_get_collection(names=[kb_collection_name])\n",
    "# Periodically check collection status\n",
    "while (response['collectionDetails'][0]['status']) == 'CREATING':\n",
    "    print('Creating collection...')\n",
    "    time.sleep(30)\n",
    "    response = open_search_serverless_client.batch_get_collection(names=[kb_collection_name])\n",
    "print('\\nCollection successfully created:')\n",
    "print(response[\"collectionDetails\"])\n",
    "# Extract the collection endpoint from the response\n",
    "host = (response['collectionDetails'][0]['collectionEndpoint'])\n",
    "final_host = host.replace(\"https://\", \"\")\n",
    "final_host"
   ]
  },
  {
   "cell_type": "markdown",
   "id": "455a3b6f-1bca-410d-86fe-5d38fe61470b",
   "metadata": {
    "pycharm": {
     "name": "#%% md\n"
    }
   },
   "source": [
    "### 3.3 - Create OpenSearch Index\n",
    "\n",
    "Let's now create a vector index to index our data\n"
   ]
  },
  {
   "cell_type": "code",
   "execution_count": 21,
   "id": "59f5e1fa-2d27-4d57-b288-327a16edd67b",
   "metadata": {
    "pycharm": {
     "name": "#%%\n"
    },
    "tags": []
   },
   "outputs": [
    {
     "name": "stderr",
     "output_type": "stream",
     "text": [
      "[2024-10-03 12:21:52,959] p1019363 {credentials.py:1147} INFO - Found credentials in environment variables.\n",
      "[2024-10-03 12:22:37,988] p1019363 {base.py:258} INFO - PUT https://ltwjvxkrsohpvjj1818c.us-east-1.aoss.amazonaws.com:443/bedrock-knowledge-base-index [status:200 request:0.800s]\n"
     ]
    },
    {
     "name": "stdout",
     "output_type": "stream",
     "text": [
      "\n",
      "Creating index:\n",
      "{'acknowledged': True, 'shards_acknowledged': True, 'index': 'bedrock-knowledge-base-index'}\n"
     ]
    }
   ],
   "source": [
    "credentials = boto3.Session().get_credentials()\n",
    "service = 'aoss'\n",
    "awsauth = AWS4Auth(\n",
    "    credentials.access_key, \n",
    "    credentials.secret_key,\n",
    "    region, \n",
    "    service, \n",
    "    session_token=credentials.token\n",
    ")\n",
    "\n",
    "# Build the OpenSearch client\n",
    "open_search_client = OpenSearch(\n",
    "    hosts=[{'host': final_host, 'port': 443}],\n",
    "    http_auth=awsauth,\n",
    "    use_ssl=True,\n",
    "    verify_certs=True,\n",
    "    connection_class=RequestsHttpConnection,\n",
    "    timeout=300\n",
    ")\n",
    "# It can take up to a minute for data access rules to be enforced\n",
    "time.sleep(45)\n",
    "index_body = {\n",
    "    \"settings\": {\n",
    "        \"index.knn\": True,\n",
    "        \"number_of_shards\": 1,\n",
    "        \"knn.algo_param.ef_search\": 512,\n",
    "        \"number_of_replicas\": 0,\n",
    "    },\n",
    "    \"mappings\": {\n",
    "        \"properties\": {}\n",
    "    }\n",
    "}\n",
    "\n",
    "index_body[\"mappings\"][\"properties\"][kb_vectorField] = {\n",
    "    \"type\": \"knn_vector\",\n",
    "    \"dimension\": 1536,\n",
    "    \"method\": {\n",
    "         \"name\": \"hnsw\",\n",
    "         \"engine\": \"faiss\"\n",
    "    },\n",
    "}\n",
    "\n",
    "index_body[\"mappings\"][\"properties\"][kb_textField] = {\n",
    "    \"type\": \"text\"\n",
    "}\n",
    "\n",
    "index_body[\"mappings\"][\"properties\"][kb_metadataField] = {\n",
    "    \"type\": \"text\"\n",
    "}\n",
    "\n",
    "# Create index\n",
    "response = open_search_client.indices.create(kb_vector_index_name, body=index_body)\n",
    "print('\\nCreating index:')\n",
    "print(response)"
   ]
  },
  {
   "cell_type": "markdown",
   "id": "2a716b75-29d1-47e2-b9a0-24887b0624ea",
   "metadata": {
    "pycharm": {
     "name": "#%% md\n"
    }
   },
   "source": [
    "### 3.5 - Create Knowledge Base\n",
    "Now that we have the Vector database available in OpenSearch Serverless, let's create a Knowledge Base and associate it with the OpenSearch DB"
   ]
  },
  {
   "cell_type": "code",
   "execution_count": 22,
   "id": "dce574a8-5eb9-4fbf-af11-08b7a05e5044",
   "metadata": {
    "pycharm": {
     "name": "#%%\n"
    },
    "tags": []
   },
   "outputs": [],
   "source": [
    "storage_configuration = {\n",
    "    'opensearchServerlessConfiguration': {\n",
    "        'collectionArn': collection_arn, \n",
    "        'fieldMapping': {\n",
    "            'metadataField': kb_metadataField,\n",
    "            'textField': kb_textField,\n",
    "            'vectorField': kb_vectorField\n",
    "        },\n",
    "        'vectorIndexName': kb_vector_index_name\n",
    "    },\n",
    "    'type': 'OPENSEARCH_SERVERLESS'\n",
    "}"
   ]
  },
  {
   "cell_type": "code",
   "execution_count": 23,
   "id": "f853d36e-cf19-4241-8cff-adecf14c3f45",
   "metadata": {
    "pycharm": {
     "name": "#%%\n"
    },
    "tags": []
   },
   "outputs": [
    {
     "name": "stdout",
     "output_type": "stream",
     "text": [
      "{'ResponseMetadata': {'HTTPHeaders': {'connection': 'keep-alive',\n",
      "                                      'content-length': '1013',\n",
      "                                      'content-type': 'application/json',\n",
      "                                      'date': 'Thu, 03 Oct 2024 16:28:57 GMT',\n",
      "                                      'x-amz-apigw-id': 'fFPrREEloAMEBbw=',\n",
      "                                      'x-amzn-requestid': 'e61cedf7-1afd-4372-860b-f73b30a41f23',\n",
      "                                      'x-amzn-trace-id': 'Root=1-66fec647-3995089d269ed0a75f017d97'},\n",
      "                      'HTTPStatusCode': 202,\n",
      "                      'RequestId': 'e61cedf7-1afd-4372-860b-f73b30a41f23',\n",
      "                      'RetryAttempts': 0},\n",
      " 'knowledgeBase': {'createdAt': datetime.datetime(2024, 10, 3, 16, 28, 55, 901018, tzinfo=tzutc()),\n",
      "                   'description': 'KB that contains the bedrock documentation',\n",
      "                   'knowledgeBaseArn': 'arn:aws:bedrock:us-east-1:864981754328:knowledge-base/ZMAWZL4NJA',\n",
      "                   'knowledgeBaseConfiguration': {'type': 'VECTOR',\n",
      "                                                  'vectorKnowledgeBaseConfiguration': {'embeddingModelArn': 'arn:aws:bedrock:us-east-1::foundation-model/amazon.titan-embed-text-v1'}},\n",
      "                   'knowledgeBaseId': 'ZMAWZL4NJA',\n",
      "                   'name': 'bedrock-docs-kb-us-east-1-864981754328',\n",
      "                   'roleArn': 'arn:aws:iam::864981754328:role/AmazonBedrockExecutionRoleForKnowledgeBase_bedrock_docs',\n",
      "                   'status': 'CREATING',\n",
      "                   'storageConfiguration': {'opensearchServerlessConfiguration': {'collectionArn': 'arn:aws:aoss:us-east-1:864981754328:collection/ltwjvxkrsohpvjj1818c',\n",
      "                                                                                  'fieldMapping': {'metadataField': 'bedrock-knowledge-base-metadata',\n",
      "                                                                                                   'textField': 'bedrock-knowledge-base-text',\n",
      "                                                                                                   'vectorField': 'bedrock-knowledge-base-vector'},\n",
      "                                                                                  'vectorIndexName': 'bedrock-knowledge-base-index'},\n",
      "                                            'type': 'OPENSEARCH_SERVERLESS'},\n",
      "                   'updatedAt': datetime.datetime(2024, 10, 3, 16, 28, 55, 901018, tzinfo=tzutc())}}\n"
     ]
    }
   ],
   "source": [
    "# Creating the knowledge base\n",
    "try:\n",
    "    # ensure the index is created and available\n",
    "    time.sleep(45)\n",
    "    kb_obj = bedrock_agent_client.create_knowledge_base(\n",
    "        name=kb_name, \n",
    "        description='KB that contains the bedrock documentation',\n",
    "        roleArn=kb_role_arn,\n",
    "        knowledgeBaseConfiguration={\n",
    "            'type': 'VECTOR',  # Corrected type\n",
    "            'vectorKnowledgeBaseConfiguration': {\n",
    "                'embeddingModelArn': embedding_model_arn\n",
    "            }\n",
    "        },\n",
    "        storageConfiguration=storage_configuration\n",
    "    )\n",
    "\n",
    "    # Pretty print the response\n",
    "    pprint.pprint(kb_obj)\n",
    "\n",
    "except Exception as e:\n",
    "    print(f\"Error occurred: {e}\")"
   ]
  },
  {
   "cell_type": "code",
   "execution_count": 24,
   "id": "92a7acc7-23fc-4c68-bc5d-f56c819b4e45",
   "metadata": {
    "pycharm": {
     "name": "#%%\n"
    },
    "tags": []
   },
   "outputs": [
    {
     "name": "stdout",
     "output_type": "stream",
     "text": [
      "{'ResponseMetadata': {'HTTPHeaders': {'connection': 'keep-alive',\n",
      "                                      'content-length': '661',\n",
      "                                      'content-type': 'application/json',\n",
      "                                      'date': 'Thu, 03 Oct 2024 16:30:39 GMT',\n",
      "                                      'x-amz-apigw-id': 'fFP7YGVBoAMEghQ=',\n",
      "                                      'x-amzn-requestid': 'd8979238-f4ab-4b36-bd80-767f1c898b83',\n",
      "                                      'x-amzn-trace-id': 'Root=1-66fec6ae-16f20af808f2b9984a3e21a6'},\n",
      "                      'HTTPStatusCode': 200,\n",
      "                      'RequestId': 'd8979238-f4ab-4b36-bd80-767f1c898b83',\n",
      "                      'RetryAttempts': 0},\n",
      " 'dataSource': {'createdAt': datetime.datetime(2024, 10, 3, 16, 30, 39, 30217, tzinfo=tzutc()),\n",
      "                'dataDeletionPolicy': 'DELETE',\n",
      "                'dataSourceConfiguration': {'s3Configuration': {'bucketArn': 'arn:aws:s3:::bedrock-docs-kb-agents-us-east-1-864981754328',\n",
      "                                                                'inclusionPrefixes': ['kb_documents']},\n",
      "                                            'type': 'S3'},\n",
      "                'dataSourceId': 'MWDCD9TTSM',\n",
      "                'description': 'DataSource for the bedrock documentation',\n",
      "                'knowledgeBaseId': 'ZMAWZL4NJA',\n",
      "                'name': 'bedrock-docs-kb-docs-us-east-1-864981754328',\n",
      "                'status': 'AVAILABLE',\n",
      "                'updatedAt': datetime.datetime(2024, 10, 3, 16, 30, 39, 30217, tzinfo=tzutc()),\n",
      "                'vectorIngestionConfiguration': {'chunkingConfiguration': {'chunkingStrategy': 'FIXED_SIZE',\n",
      "                                                                           'fixedSizeChunkingConfiguration': {'maxTokens': 512,\n",
      "                                                                                                              'overlapPercentage': 20}}}}}\n"
     ]
    }
   ],
   "source": [
    "# Define the S3 configuration for your data source\n",
    "s3_configuration = {\n",
    "    'bucketArn': bucket_arn,\n",
    "    'inclusionPrefixes': [kb_key]  \n",
    "}\n",
    "\n",
    "# Define the data source configuration\n",
    "data_source_configuration = {\n",
    "    's3Configuration': s3_configuration,\n",
    "    'type': 'S3'\n",
    "}\n",
    "\n",
    "knowledge_base_id = kb_obj[\"knowledgeBase\"][\"knowledgeBaseId\"]\n",
    "knowledge_base_arn = kb_obj[\"knowledgeBase\"][\"knowledgeBaseArn\"]\n",
    "\n",
    "chunking_strategy_configuration = {\n",
    "    \"chunkingStrategy\": \"FIXED_SIZE\",\n",
    "    \"fixedSizeChunkingConfiguration\": {\n",
    "        \"maxTokens\": 512,\n",
    "        \"overlapPercentage\": 20\n",
    "    }\n",
    "}\n",
    "\n",
    "# Create the data source\n",
    "try:\n",
    "    # ensure that the KB is created and available\n",
    "    time.sleep(45)\n",
    "    data_source_response = bedrock_agent_client.create_data_source(\n",
    "        knowledgeBaseId=knowledge_base_id,\n",
    "        name=data_source_name,\n",
    "        description='DataSource for the bedrock documentation',\n",
    "        dataSourceConfiguration=data_source_configuration,\n",
    "        vectorIngestionConfiguration = {\n",
    "            \"chunkingConfiguration\": chunking_strategy_configuration\n",
    "        }\n",
    "    )\n",
    "\n",
    "    # Pretty print the response\n",
    "    pprint.pprint(data_source_response)\n",
    "\n",
    "except Exception as e:\n",
    "    print(f\"Error occurred: {e}\")\n"
   ]
  },
  {
   "cell_type": "markdown",
   "id": "f9791ecb-9949-4a2d-9ff6-ae463be967cd",
   "metadata": {
    "pycharm": {
     "name": "#%% md\n"
    }
   },
   "source": [
    "### 3.6 - Start ingestion job\n",
    "\n",
    "Once the Knowledge Base and Data Source are created, we can start the ingestion job. During the ingestion job, Knowledge Base will fetch the documents in the data source, pre-process it to extract text, chunk it based on the chunking size provided, create embeddings of each chunk and then write it to the vector database, in this case Amazon OpenSource Serverless.\n"
   ]
  },
  {
   "cell_type": "code",
   "execution_count": 25,
   "id": "ab88c732-d26b-442e-a502-4a2218e65c80",
   "metadata": {
    "pycharm": {
     "name": "#%%\n"
    },
    "tags": []
   },
   "outputs": [],
   "source": [
    "# Start an ingestion job\n",
    "data_source_id = data_source_response[\"dataSource\"][\"dataSourceId\"]\n",
    "start_job_response = bedrock_agent_client.start_ingestion_job(\n",
    "    knowledgeBaseId=knowledge_base_id, \n",
    "    dataSourceId=data_source_id\n",
    ")\n"
   ]
  },
  {
   "cell_type": "markdown",
   "id": "4a253838-6dd3-4a44-84aa-9ee9798bb9d0",
   "metadata": {
    "pycharm": {
     "name": "#%% md\n"
    }
   },
   "source": [
    "## 4. Create Agent\n",
    "\n",
    "We will now create the Agent and associate the Knowledge Base to it. To do so we need to: \n",
    "1. Create Agent IAM role and policies\n",
    "1. Create Agent\n",
    "1. Associate Agent to Knowledge Base\n",
    "1. Prepare Agent\n",
    "\n",
    "### 4.1 - Create Agent IAM role and policies\n",
    "First we need to create the agent policies that allow bedrock model invocation and Knowledge Base retrieval"
   ]
  },
  {
   "cell_type": "code",
   "execution_count": 26,
   "id": "5d341725-3d9e-4c9a-aa65-ed661c2775b3",
   "metadata": {
    "pycharm": {
     "name": "#%%\n"
    },
    "tags": []
   },
   "outputs": [],
   "source": [
    "# Create IAM policies for agent\n",
    "bedrock_agent_bedrock_allow_policy_statement = {\n",
    "    \"Version\": \"2012-10-17\",\n",
    "    \"Statement\": [\n",
    "        {\n",
    "            \"Sid\": \"AmazonBedrockAgentBedrockFoundationModelPolicy\",\n",
    "            \"Effect\": \"Allow\",\n",
    "            \"Action\": \"bedrock:InvokeModel\",\n",
    "            \"Resource\": [\n",
    "                f\"arn:aws:bedrock:{region}::foundation-model/{model_id}\"\n",
    "            ]\n",
    "        }\n",
    "    ]\n",
    "}\n",
    "\n",
    "bedrock_policy_json = json.dumps(bedrock_agent_bedrock_allow_policy_statement)\n",
    "\n",
    "agent_bedrock_policy = iam_client.create_policy(\n",
    "    PolicyName=bedrock_agent_bedrock_allow_policy_name,\n",
    "    PolicyDocument=bedrock_policy_json\n",
    ")"
   ]
  },
  {
   "cell_type": "code",
   "execution_count": 27,
   "id": "38c0f7c3-4c98-49a5-bb94-db7935f754b5",
   "metadata": {
    "pycharm": {
     "name": "#%%\n"
    },
    "tags": []
   },
   "outputs": [],
   "source": [
    "bedrock_agent_kb_retrival_policy_statement = {\n",
    "    \"Version\": \"2012-10-17\",\n",
    "    \"Statement\": [\n",
    "        {\n",
    "            \"Effect\": \"Allow\",\n",
    "            \"Action\": [\n",
    "                \"bedrock:Retrieve\"\n",
    "            ],\n",
    "            \"Resource\": [\n",
    "                knowledge_base_arn\n",
    "            ]\n",
    "        }\n",
    "    ]\n",
    "}\n",
    "bedrock_agent_kb_json = json.dumps(bedrock_agent_kb_retrival_policy_statement)\n",
    "agent_kb_schema_policy = iam_client.create_policy(\n",
    "    PolicyName=bedrock_agent_kb_allow_policy_name,\n",
    "    Description=f\"Policy to allow agent to retrieve documents from knowledge base.\",\n",
    "    PolicyDocument=bedrock_agent_kb_json\n",
    ")\n"
   ]
  },
  {
   "cell_type": "code",
   "execution_count": 28,
   "id": "bd178e18-196d-464e-b8ff-fb36090cbdd8",
   "metadata": {
    "pycharm": {
     "name": "#%%\n"
    },
    "tags": []
   },
   "outputs": [
    {
     "data": {
      "text/plain": [
       "{'ResponseMetadata': {'RequestId': '6ed3e42b-b4db-49cc-a410-5a5d23638216',\n",
       "  'HTTPStatusCode': 200,\n",
       "  'HTTPHeaders': {'date': 'Thu, 03 Oct 2024 16:32:20 GMT',\n",
       "   'x-amzn-requestid': '6ed3e42b-b4db-49cc-a410-5a5d23638216',\n",
       "   'content-type': 'text/xml',\n",
       "   'content-length': '212'},\n",
       "  'RetryAttempts': 0}}"
      ]
     },
     "execution_count": 28,
     "metadata": {},
     "output_type": "execute_result"
    }
   ],
   "source": [
    "\n",
    "# Create IAM Role for the agent and attach IAM policies\n",
    "assume_role_policy_document = {\n",
    "    \"Version\": \"2012-10-17\",\n",
    "    \"Statement\": [{\n",
    "          \"Effect\": \"Allow\",\n",
    "          \"Principal\": {\n",
    "            \"Service\": \"bedrock.amazonaws.com\"\n",
    "          },\n",
    "          \"Action\": \"sts:AssumeRole\"\n",
    "    }]\n",
    "}\n",
    "\n",
    "assume_role_policy_document_json = json.dumps(assume_role_policy_document)\n",
    "agent_role = iam_client.create_role(\n",
    "    RoleName=agent_role_name,\n",
    "    AssumeRolePolicyDocument=assume_role_policy_document_json\n",
    ")\n",
    "\n",
    "# Pause to make sure role is created\n",
    "time.sleep(10)\n",
    "    \n",
    "iam_client.attach_role_policy(\n",
    "    RoleName=agent_role_name,\n",
    "    PolicyArn=agent_bedrock_policy['Policy']['Arn']\n",
    ")\n",
    "\n",
    "\n",
    "iam_client.attach_role_policy(\n",
    "    RoleName=agent_role_name,\n",
    "    PolicyArn=agent_kb_schema_policy['Policy']['Arn']\n",
    ")"
   ]
  },
  {
   "cell_type": "markdown",
   "id": "0b3f4fa0-9854-4602-9024-b9b1f05c9c20",
   "metadata": {
    "pycharm": {
     "name": "#%% md\n"
    }
   },
   "source": [
    "### 4.2 - Create Agent\n",
    "Once the needed IAM role is created, we can use the bedrock agent client to create a new agent. To do so we use the create_agent function. It requires an agent name, underline foundation model and instruction. You can also provide an agent description. Note that the agent created is not yet prepared. We will focus on preparing the agent and then using it to invoke actions and use other APIs"
   ]
  },
  {
   "cell_type": "code",
   "execution_count": 29,
   "id": "4ddf7880-dafc-479a-987f-628369b94035",
   "metadata": {
    "pycharm": {
     "name": "#%%\n"
    },
    "tags": []
   },
   "outputs": [],
   "source": [
    "# Create Agent\n",
    "response = bedrock_agent_client.create_agent(\n",
    "    agentName=agent_name,\n",
    "    agentResourceRoleArn=agent_role['Role']['Arn'],\n",
    "    description=\"Agent supporting Amazon Bedrock Developers.\",\n",
    "    idleSessionTTLInSeconds=1800,\n",
    "    foundationModel=model_id,\n",
    "    instruction=agent_instruction,\n",
    ")"
   ]
  },
  {
   "cell_type": "markdown",
   "id": "e32e05be-f686-42eb-afe9-42026c3c301a",
   "metadata": {
    "pycharm": {
     "name": "#%% md\n"
    }
   },
   "source": [
    "Let's now store the agent id in a local variable to use it on the next steps"
   ]
  },
  {
   "cell_type": "code",
   "execution_count": 30,
   "id": "47a5e409-acca-47be-9a89-c72091f539de",
   "metadata": {
    "pycharm": {
     "name": "#%%\n"
    },
    "tags": []
   },
   "outputs": [
    {
     "data": {
      "text/plain": [
       "'CHGGV5HMUG'"
      ]
     },
     "execution_count": 30,
     "metadata": {},
     "output_type": "execute_result"
    }
   ],
   "source": [
    "agent_id = response['agent']['agentId']\n",
    "agent_id"
   ]
  },
  {
   "cell_type": "markdown",
   "id": "accf4d20-6644-48f0-a82d-a60a25fab0a5",
   "metadata": {
    "pycharm": {
     "name": "#%% md\n"
    }
   },
   "source": [
    "### 4.3 - Associate agent to the Knowledge Base\n",
    "Next, we need to associate the agent created with the Knowledge Base for the Bedrock documentation"
   ]
  },
  {
   "cell_type": "code",
   "execution_count": 31,
   "id": "f3b36aba-45ba-4e91-a7af-91937348d264",
   "metadata": {
    "pycharm": {
     "name": "#%%\n"
    },
    "tags": []
   },
   "outputs": [],
   "source": [
    "agent_kb_description = bedrock_agent_client.associate_agent_knowledge_base(\n",
    "    agentId=agent_id,\n",
    "    agentVersion='DRAFT',\n",
    "    description=f'Use the information in the {kb_name} knowledge base to provide accurate responses to the questions about Amazon Bedrock.',\n",
    "    knowledgeBaseId=knowledge_base_id \n",
    ")"
   ]
  },
  {
   "cell_type": "markdown",
   "id": "5776f5ae-ddb6-4241-86ed-0f3bcb84839a",
   "metadata": {
    "pycharm": {
     "name": "#%% md\n"
    }
   },
   "source": [
    "### 4.4 - Prepare Agent\n",
    "\n",
    "Let's create a DRAFT version of the agent that can be used for internal testing.\n"
   ]
  },
  {
   "cell_type": "code",
   "execution_count": 32,
   "id": "962eb7bf-250d-4ed5-af2d-a5ad6e3b7bff",
   "metadata": {
    "pycharm": {
     "name": "#%%\n"
    },
    "tags": []
   },
   "outputs": [
    {
     "data": {
      "text/plain": [
       "{'ResponseMetadata': {'RequestId': '0197f9c1-dc9a-4880-bc93-ae0c45608368',\n",
       "  'HTTPStatusCode': 202,\n",
       "  'HTTPHeaders': {'date': 'Thu, 03 Oct 2024 16:33:24 GMT',\n",
       "   'content-type': 'application/json',\n",
       "   'content-length': '119',\n",
       "   'connection': 'keep-alive',\n",
       "   'x-amzn-requestid': '0197f9c1-dc9a-4880-bc93-ae0c45608368',\n",
       "   'x-amz-apigw-id': 'fFQVRHcQIAMEl5w=',\n",
       "   'x-amzn-trace-id': 'Root=1-66fec754-1d0f200f575e76a37a5b81fe'},\n",
       "  'RetryAttempts': 0},\n",
       " 'agentId': 'CHGGV5HMUG',\n",
       " 'agentStatus': 'PREPARING',\n",
       " 'agentVersion': 'DRAFT',\n",
       " 'preparedAt': datetime.datetime(2024, 10, 3, 16, 33, 24, 731699, tzinfo=tzutc())}"
      ]
     },
     "execution_count": 32,
     "metadata": {},
     "output_type": "execute_result"
    }
   ],
   "source": [
    "agent_prepare = bedrock_agent_client.prepare_agent(agentId=agent_id)\n",
    "agent_prepare"
   ]
  },
  {
   "cell_type": "markdown",
   "id": "b603a0e1-cbfc-492a-86c5-304156bafbbc",
   "metadata": {
    "pycharm": {
     "name": "#%% md\n"
    }
   },
   "source": [
    "## 5 - Testing Agent\n",
    "\n",
    "Now that we have our agent, let's invoke it to test if it is providing correct information about Amazon Bedrock. To do so, let's first create an Agent Alias"
   ]
  },
  {
   "cell_type": "code",
   "execution_count": 33,
   "id": "a24e0bb8-ba19-407c-86f7-d20bccbf33c9",
   "metadata": {
    "pycharm": {
     "name": "#%%\n"
    },
    "tags": []
   },
   "outputs": [],
   "source": [
    "# Pause to make sure agent is prepared\n",
    "time.sleep(30)\n",
    "agent_alias = bedrock_agent_client.create_agent_alias(\n",
    "    agentId=agent_id,\n",
    "    agentAliasName=agent_alias_name\n",
    ")\n",
    "# Pause to make sure agent alias is ready\n",
    "time.sleep(30)"
   ]
  },
  {
   "cell_type": "code",
   "execution_count": 34,
   "id": "36a5e2d5-6f23-4dea-a720-8b3a6d3c07ed",
   "metadata": {
    "pycharm": {
     "name": "#%%\n"
    },
    "tags": []
   },
   "outputs": [
    {
     "data": {
      "text/plain": [
       "{'ResponseMetadata': {'RequestId': '398d5f13-9444-4d78-bd21-c67decc1c598',\n",
       "  'HTTPStatusCode': 202,\n",
       "  'HTTPHeaders': {'date': 'Thu, 03 Oct 2024 16:34:11 GMT',\n",
       "   'content-type': 'application/json',\n",
       "   'content-length': '344',\n",
       "   'connection': 'keep-alive',\n",
       "   'x-amzn-requestid': '398d5f13-9444-4d78-bd21-c67decc1c598',\n",
       "   'x-amz-apigw-id': 'fFQchF6oIAMEsQA=',\n",
       "   'x-amzn-trace-id': 'Root=1-66fec783-6d3aaeb16ecb42bd6271385a'},\n",
       "  'RetryAttempts': 0},\n",
       " 'agentAlias': {'agentAliasArn': 'arn:aws:bedrock:us-east-1:864981754328:agent-alias/CHGGV5HMUG/C075XGKMDI',\n",
       "  'agentAliasId': 'C075XGKMDI',\n",
       "  'agentAliasName': 'bedrock-docs-alias',\n",
       "  'agentAliasStatus': 'CREATING',\n",
       "  'agentId': 'CHGGV5HMUG',\n",
       "  'createdAt': datetime.datetime(2024, 10, 3, 16, 34, 11, 88888, tzinfo=tzutc()),\n",
       "  'routingConfiguration': [{}],\n",
       "  'updatedAt': datetime.datetime(2024, 10, 3, 16, 34, 11, 88888, tzinfo=tzutc())}}"
      ]
     },
     "execution_count": 34,
     "metadata": {},
     "output_type": "execute_result"
    }
   ],
   "source": [
    "agent_alias"
   ]
  },
  {
   "cell_type": "markdown",
   "id": "99e23a8c-e482-41a9-b5f6-82d28eb5bdfc",
   "metadata": {
    "pycharm": {
     "name": "#%% md\n"
    }
   },
   "source": [
    "Now that we've created the agent, let's use the bedrock-agent-runtime client to invoke this agent and get the information from the Knowledge base"
   ]
  },
  {
   "cell_type": "code",
   "execution_count": 35,
   "id": "d3a53720-96f6-45f3-b4a8-77526d3ed5fd",
   "metadata": {
    "pycharm": {
     "name": "#%%\n"
    },
    "tags": []
   },
   "outputs": [
    {
     "name": "stderr",
     "output_type": "stream",
     "text": [
      "[2024-10-03 12:35:19,813] p1019363 {2021949151.py:19} INFO - None\n"
     ]
    },
    {
     "name": "stdout",
     "output_type": "stream",
     "text": [
      "{'ResponseMetadata': {'HTTPHeaders': {'connection': 'keep-alive',\n",
      "                                      'content-type': 'application/json',\n",
      "                                      'date': 'Thu, 03 Oct 2024 16:35:19 GMT',\n",
      "                                      'transfer-encoding': 'chunked',\n",
      "                                      'x-amz-bedrock-agent-session-id': '7a8266ac-81a5-11ef-a932-2f18ffe82f68',\n",
      "                                      'x-amzn-bedrock-agent-content-type': 'application/json',\n",
      "                                      'x-amzn-requestid': '4db03a12-d5a2-4acf-aea5-e804020994f7'},\n",
      "                      'HTTPStatusCode': 200,\n",
      "                      'RequestId': '4db03a12-d5a2-4acf-aea5-e804020994f7',\n",
      "                      'RetryAttempts': 0},\n",
      " 'completion': <botocore.eventstream.EventStream object at 0x7fcf0c194970>,\n",
      " 'contentType': 'application/json',\n",
      " 'sessionId': '7a8266ac-81a5-11ef-a932-2f18ffe82f68'}\n"
     ]
    }
   ],
   "source": [
    "# Extract the agentAliasId from the response\n",
    "agent_alias_id = agent_alias['agentAlias']['agentAliasId']\n",
    "\n",
    "## create a random id for session initiator id\n",
    "session_id:str = str(uuid.uuid1())\n",
    "enable_trace:bool = True\n",
    "end_session:bool = False\n",
    "\n",
    "# invoke the agent API\n",
    "agentResponse = bedrock_agent_runtime_client.invoke_agent(\n",
    "    inputText=\"How can I evaluate models on Bedrock?\",\n",
    "    agentId=agent_id,\n",
    "    agentAliasId=agent_alias_id, \n",
    "    sessionId=session_id,\n",
    "    enableTrace=enable_trace, \n",
    "    endSession= end_session\n",
    ")\n",
    "\n",
    "logger.info(pprint.pprint(agentResponse))\n"
   ]
  },
  {
   "cell_type": "code",
   "execution_count": 36,
   "id": "430f2083-dc61-4a3e-a373-d36660fd7a82",
   "metadata": {
    "pycharm": {
     "name": "#%%\n"
    },
    "tags": []
   },
   "outputs": [
    {
     "name": "stderr",
     "output_type": "stream",
     "text": [
      "[2024-10-03 12:35:28,770] p1019363 {<timed exec>:11} INFO - {\n",
      "  \"agentAliasId\": \"C075XGKMDI\",\n",
      "  \"agentId\": \"CHGGV5HMUG\",\n",
      "  \"agentVersion\": \"1\",\n",
      "  \"sessionId\": \"7a8266ac-81a5-11ef-a932-2f18ffe82f68\",\n",
      "  \"trace\": {\n",
      "    \"orchestrationTrace\": {\n",
      "      \"invocationInput\": {\n",
      "        \"invocationType\": \"KNOWLEDGE_BASE\",\n",
      "        \"knowledgeBaseLookupInput\": {\n",
      "          \"knowledgeBaseId\": \"ZMAWZL4NJA\",\n",
      "          \"text\": \"How can I evaluate models on Bedrock?\"\n",
      "        },\n",
      "        \"traceId\": \"4db03a12-d5a2-4acf-aea5-e804020994f7-0\"\n",
      "      }\n",
      "    }\n",
      "  }\n",
      "}\n",
      "[2024-10-03 12:35:28,775] p1019363 {<timed exec>:11} INFO - {\n",
      "  \"agentAliasId\": \"C075XGKMDI\",\n",
      "  \"agentId\": \"CHGGV5HMUG\",\n",
      "  \"agentVersion\": \"1\",\n",
      "  \"sessionId\": \"7a8266ac-81a5-11ef-a932-2f18ffe82f68\",\n",
      "  \"trace\": {\n",
      "    \"orchestrationTrace\": {\n",
      "      \"observation\": {\n",
      "        \"knowledgeBaseLookupOutput\": {\n",
      "          \"retrievedReferences\": [\n",
      "            {\n",
      "              \"content\": {\n",
      "                \"text\": \"Working with model evaluation jobs in Amazon Bedrock   The following sections provide sample procedures, and API operations that can be used to create,  describe, list, and stop both human-based and automatic model evaluation jobs.   Topics   \\u00e2\\u20ac\\u00a2 Creating model evaluation jobs   \\u00e2\\u20ac\\u00a2 Stopping a model evaluation job   \\u00e2\\u20ac\\u00a2 Finding model evaluation jobs you've already created   Creating model evaluation jobs   The follow in examples show you how to create a model evaluation job using the Amazon Bedrock  console, AWS CLI, SDK for Python   Working with jobs 299        Amazon Bedrock User Guide   Automatic model evaluation jobs   The follow examples demonstrate how to create an automatic model evaluation job. All automatic  model evaluation jobs require that you create IAM service role. To learn more about the IAM  requirements for setting up a model evaluation job, see Service role requirements for model  evaluation jobs.   Amazon Bedrock console   Use the following procedure to createa model evaluation job using the Amazon Bedrock  console. To successfully complete this procedure make sure that your IAM user, group, or role  has the sufficient permissions to access the console. To learn more, see Required permissions to  create a model evaluation job using the Amazon Bedrock console.   Also, any custom prompt datasets that you want to specify in the model evaluation job must  have the required CORS permissions added to the Amazon S3 bucket. To learn more about  adding the required CORS permissions see, Required Cross Origin Resource Sharing (CORS)  permission on S3 buckets.   To createan automatic model evaluation job   1. Open the Amazon Bedrock console: https://console.aws.amazon.com/bedrock/   2. In the navigation pane, choose Model evaluation.   3. In the Build an evaluation card, under Automatic choose Create automatic evaluation.   4. On the Create automatic evaluation page, provide the following information   a. Evaluation name \\u00e2\\u20ac\\u201d Give the model evaluation job a name that describes the job. This  name is shown in your model evaluation job list. The name must be unique in your  AWS account in an AWS Region.   b. Description (Optional) \\u00e2\\u20ac\\u201d Provide an optional description.   c. Models \\u00e2\\u20ac\\u201d Choose the model you want to use in the model evaluation job.   To learn more about available models and accessing them in Amazon Bedrock, see Model access.   d. (Optional) To change the inference configuration choose update.\"\n",
      "              },\n",
      "              \"location\": {\n",
      "                \"s3Location\": {\n",
      "                  \"uri\": \"s3://bedrock-docs-kb-agents-us-east-1-864981754328/kb_documents/bedrock-ug.pdf\"\n",
      "                },\n",
      "                \"type\": \"S3\"\n",
      "              },\n",
      "              \"metadata\": {\n",
      "                \"x-amz-bedrock-kb-source-uri\": \"s3://bedrock-docs-kb-agents-us-east-1-864981754328/kb_documents/bedrock-ug.pdf\",\n",
      "                \"x-amz-bedrock-kb-chunk-id\": \"1%3A0%3AyYI6U5IBDhikyj3PNY4w\",\n",
      "                \"x-amz-bedrock-kb-data-source-id\": \"MWDCD9TTSM\"\n",
      "              }\n",
      "            },\n",
      "            {\n",
      "              \"content\": {\n",
      "                \"text\": \"For more information, see Agents for Amazon Bedrock.   Assessment and deployment   As you use Amazon Bedrock models, you need to to assess their performance and to deploy them  into your solutions.   Safeguards 171        Amazon Bedrock User Guide   With Model Evaluation, you can evaluate and compare model output, and then choose the one  best suited for your applications. Choose Assessment and deployment and then choose Model  evaluation.   When you configure Provisioned Throughput for a model, you receive a level of throughput at a  fixed cost. To provision throughput, choose Assessment and deployment in the navigation pane  and then Provisioned Throughput. For more information, see Provisioned Throughput for Amazon  Bedrock.   Model access   To use a model in Amazon Bedrock, you must first request access to the model. On the left  navigation pane, choose Model access. For more information, see Model access.   Model invocation logging   You can log model invocation events by choosing Settings in the left navigation pane. For more  information, see Model invocation logging.   Model access 172        Amazon Bedrock User Guide   Run model inference   Inference refers to the process of generating an output from an input provided to a model.  Foundation models use probability to construct the words in a sequence. Given an input, the model  predicts a probable sequence of tokens that follows, and returns that sequence as the output.  Amazon Bedrock provides you the capability of running inference in the foundation model of your  choice. When you run inference, you provide the following inputs.   \\u00e2\\u20ac\\u00a2 Prompt \\u00e2\\u20ac\\u201c An input provided to the model in order for it to generate a response. For information  about writing prompts, see  Prompt engineering guidelines.   \\u00e2\\u20ac\\u00a2 Inference parameters \\u00e2\\u20ac\\u201c A set of values that can be adjusted to limit or influence the model  response. For information about inference parameters, see Inference parameters and Inference  parameters for foundation models.   Amazon Bedrock offers a suite of foundation models that you can use to generate outputs of the  following modalities. To see modality support by foundation model, refer to Supported foundation  models in Amazon Bedrock.\"\n",
      "              },\n",
      "              \"location\": {\n",
      "                \"s3Location\": {\n",
      "                  \"uri\": \"s3://bedrock-docs-kb-agents-us-east-1-864981754328/kb_documents/bedrock-ug.pdf\"\n",
      "                },\n",
      "                \"type\": \"S3\"\n",
      "              },\n",
      "              \"metadata\": {\n",
      "                \"x-amz-bedrock-kb-source-uri\": \"s3://bedrock-docs-kb-agents-us-east-1-864981754328/kb_documents/bedrock-ug.pdf\",\n",
      "                \"x-amz-bedrock-kb-chunk-id\": \"1%3A0%3AxzE6U5IBViczNwvILGH3\",\n",
      "                \"x-amz-bedrock-kb-data-source-id\": \"MWDCD9TTSM\"\n",
      "              }\n",
      "            },\n",
      "            {\n",
      "              \"content\": {\n",
      "                \"text\": \"Ensure you take proper steps to train and notify them before they  work on the evaluation. They can decline and release tasks or take breaks during  the evaluation while accessing the human evaluation tool.   Human worker based model evaluation jobs 298        Amazon Bedrock User Guide   11. Then, choose Next.   12. On the Provide instruction page use the text editor to provide instructions for completing the  task. You can preview the evaluation UI that your work team uses to evaluate the responses,  including the metrics, rating methods, and your instructions. This preview is based on the  configuration you have created for this job.   13. Then, choose Next.   14. On the Review and create page, you can view a summary of the options you've selected in the  previous steps.   15. To start your model evaluation job, choose Create.   Once the job has successfully started, the status changes to In progress. When the job has finished,  the status changes to Completed. While a model evaluation job is still In progress, you can choose  to the stop the job before all the models' responses have been evaluated by your work team. To  do so, choose Stop evaluation on the model evaluation landing page. This will change the Status  of the model evaluation job to Stopping. Once the model evaluation job has successfully stopped,  you can delete the model evaluation job.   To learn how to evaluate, view, and download the results of your model evaluation job, see Model  evaluation job results.   Working with model evaluation jobs in Amazon Bedrock   The following sections provide sample procedures, and API operations that can be used to create,  describe, list, and stop both human-based and automatic model evaluation jobs.   Topics   \\u00e2\\u20ac\\u00a2 Creating model evaluation jobs   \\u00e2\\u20ac\\u00a2 Stopping a model evaluation job   \\u00e2\\u20ac\\u00a2 Finding model evaluation jobs you've already created   Creating model evaluation jobs   The follow in examples show you how to create a model evaluation job using the Amazon Bedrock  console, AWS CLI, SDK for Python   Working with jobs 299        Amazon Bedrock User Guide   Automatic model evaluation jobs   The follow examples demonstrate how to create an automatic model evaluation job. All automatic  model evaluation jobs require that you create IAM service role. To learn more about the IAM  requirements for setting up a model evaluation job, see Service role requirements for model  evaluation jobs.\"\n",
      "              },\n",
      "              \"location\": {\n",
      "                \"s3Location\": {\n",
      "                  \"uri\": \"s3://bedrock-docs-kb-agents-us-east-1-864981754328/kb_documents/bedrock-ug.pdf\"\n",
      "                },\n",
      "                \"type\": \"S3\"\n",
      "              },\n",
      "              \"metadata\": {\n",
      "                \"x-amz-bedrock-kb-source-uri\": \"s3://bedrock-docs-kb-agents-us-east-1-864981754328/kb_documents/bedrock-ug.pdf\",\n",
      "                \"x-amz-bedrock-kb-chunk-id\": \"1%3A0%3AyII6U5IBDhikyj3PNY4w\",\n",
      "                \"x-amz-bedrock-kb-data-source-id\": \"MWDCD9TTSM\"\n",
      "              }\n",
      "            },\n",
      "            {\n",
      "              \"content\": {\n",
      "                \"text\": \"Models \\u00e2\\u20ac\\u201d Choose the model you want to use in the model evaluation job.   To learn more about available models and accessing them in Amazon Bedrock, see Model access.   d. (Optional) To change the inference configuration choose update.   Changing the inference configuration changes the responses generated by the selected  model. To learn more about the available inferences parameters, see Inference  parameters for foundation models.   Create a job 300    https://console.aws.amazon.com/bedrock/  https://console.aws.amazon.com/bedrock/home      Amazon Bedrock User Guide   e. Task type  \\u00e2\\u20ac\\u201d Choose the type of task you want the model to attempt to perform  during the model evaluation job.   f. Metrics and datasets \\u00e2\\u20ac\\u201d The list of available metrics and built-in prompt datasets  change based on the task you select. You can choose from the list of Available built- in datasets or you can choose Use your own prompt dataset. If you choose to use  your own prompt dataset, enter the exact S3 URI of your prompt dataset file or choose Browse S3 to search for your prompt data set.   g. >Evaluation results \\u00e2\\u20ac\\u201dSpecify the S3 URI of the directory where you want the results  saved. Choose Browse S3 to search for a location in Amazon S3.   h. (Optional) To enable the use of a customer managed key Choose Customize  encryption settings (advanced). Then, provide the ARN of the AWS KMS key you want  to use.   i. Amazon Bedrock IAM role \\u00e2\\u20ac\\u201d Choose Use an existing role to use IAM service role that  already has the required permissions, or choose Create a new role to create a new IAM  service role,   5. Then, choose Create.   Once your job has start the status changes . Once the status changes Completed, then you can  view the job's report card.\"\n",
      "              },\n",
      "              \"location\": {\n",
      "                \"s3Location\": {\n",
      "                  \"uri\": \"s3://bedrock-docs-kb-agents-us-east-1-864981754328/kb_documents/bedrock-ug.pdf\"\n",
      "                },\n",
      "                \"type\": \"S3\"\n",
      "              },\n",
      "              \"metadata\": {\n",
      "                \"x-amz-bedrock-kb-source-uri\": \"s3://bedrock-docs-kb-agents-us-east-1-864981754328/kb_documents/bedrock-ug.pdf\",\n",
      "                \"x-amz-bedrock-kb-chunk-id\": \"1%3A0%3AyoI6U5IBDhikyj3PNY4w\",\n",
      "                \"x-amz-bedrock-kb-data-source-id\": \"MWDCD9TTSM\"\n",
      "              }\n",
      "            },\n",
      "            {\n",
      "              \"content\": {\n",
      "                \"text\": \"For more information, see Agents for Amazon Bedrock.   \\u00e2\\u20ac\\u00a2 Retrieval augmented generation (RAG) \\u00e2\\u20ac\\u201c The process of querying and retrieving information  from a data source in order to augment a generated response to a prompt. For more  information, see Knowledge bases for Amazon Bedrock.   \\u00e2\\u20ac\\u00a2 Model customization \\u00e2\\u20ac\\u201c The process of using training data to adjust the model parameter values  in a base model in order to create a custom model. Examples of model customization include Fine-tuning, which uses labeled data (inputs and corresponding outputs), and Continued  Pre-training, which uses unlabeled data (inputs only) to adjust model parameters. For more  information about model customization techniques available in Amazon Bedrock, see Custom  models.   \\u00e2\\u20ac\\u00a2 Hyperparameters \\u00e2\\u20ac\\u201c Values that can be adjusted for model customization to control the training  process and, consequently, the output custom model. For more information and definitions of  specific hyperparameters, see Custom model hyperparameters.   \\u00e2\\u20ac\\u00a2 Model evaluation \\u00e2\\u20ac\\u201c The process of evaluating and comparing model outputs in order to  determine the model that is best suited for a use case. For more information, see Model  evaluation.   \\u00e2\\u20ac\\u00a2 Provisioned Throughput \\u00e2\\u20ac\\u201c A level of throughput that you purchase for a base or custom model  in order to increase the amount and/or rate of tokens processed during model inference. When  you purchase Provisioned Throughput for a model, a provisioned model is created that can    Advanced features 6        Amazon Bedrock User Guide   be used to carry out model inference. For more information, see Provisioned Throughput for  Amazon Bedrock.   Advanced features 7        Amazon Bedrock User Guide   Set up Amazon Bedrock   Before you use Amazon Bedrock for the first time, complete the following tasks. Once you have set  up your account and requested model access in the console, you can set up the API.   Important   Before you can use any of the foundation models, you must request access to that model.  If you try to use the model (with the API or within the console) before you have requested  access to it, you will receive an error message. For more information, see Model access.\"\n",
      "              },\n",
      "              \"location\": {\n",
      "                \"s3Location\": {\n",
      "                  \"uri\": \"s3://bedrock-docs-kb-agents-us-east-1-864981754328/kb_documents/bedrock-ug.pdf\"\n",
      "                },\n",
      "                \"type\": \"S3\"\n",
      "              },\n",
      "              \"metadata\": {\n",
      "                \"x-amz-bedrock-kb-source-uri\": \"s3://bedrock-docs-kb-agents-us-east-1-864981754328/kb_documents/bedrock-ug.pdf\",\n",
      "                \"x-amz-bedrock-kb-chunk-id\": \"1%3A0%3AKII6U5IBDhikyj3PH45I\",\n",
      "                \"x-amz-bedrock-kb-data-source-id\": \"MWDCD9TTSM\"\n",
      "              }\n",
      "            }\n",
      "          ]\n",
      "        },\n",
      "        \"traceId\": \"4db03a12-d5a2-4acf-aea5-e804020994f7-0\",\n",
      "        \"type\": \"KNOWLEDGE_BASE\"\n",
      "      }\n",
      "    }\n",
      "  }\n",
      "}\n",
      "[2024-10-03 12:35:28,777] p1019363 {<timed exec>:11} INFO - {\n",
      "  \"agentAliasId\": \"C075XGKMDI\",\n",
      "  \"agentId\": \"CHGGV5HMUG\",\n",
      "  \"agentVersion\": \"1\",\n",
      "  \"sessionId\": \"7a8266ac-81a5-11ef-a932-2f18ffe82f68\",\n",
      "  \"trace\": {\n",
      "    \"orchestrationTrace\": {\n",
      "      \"modelInvocationInput\": {\n",
      "        \"inferenceConfiguration\": {\n",
      "          \"maximumLength\": 2048,\n",
      "          \"stopSequences\": [\n",
      "            \"\\n\\nHuman:\"\n",
      "          ],\n",
      "          \"temperature\": 0.0,\n",
      "          \"topK\": 250,\n",
      "          \"topP\": 1.0\n",
      "        },\n",
      "        \"text\": \"{\\\"system\\\":\\\"You are a question answering agent. I will provide you with a set of search results. The user will provide you with a question. Your job is to answer the user's question using only information from the search results. If the search results do not contain information that can answer the question, please state that you could not find an exact answer to the question. Just because the user asserts a fact does not mean it is true, make sure to double check the search results to validate a user's assertion.Here are the search results in numbered order:<search_results><search_result>    <content>        For more information, see Agents for Amazon Bedrock.   \\u00e2\\\\u20ac\\u00a2 Retrieval augmented generation (RAG) \\u00e2\\\\u20ac\\\\u201c The process of querying and retrieving information  from a data source in order to augment a generated response to a prompt. For more  information, see Knowledge bases for Amazon Bedrock.   \\u00e2\\\\u20ac\\u00a2 Model customization \\u00e2\\\\u20ac\\\\u201c The process of using training data to adjust the model parameter values  in a base model in order to create a custom model. Examples of model customization include Fine-tuning, which uses labeled data (inputs and corresponding outputs), and Continued  Pre-training, which uses unlabeled data (inputs only) to adjust model parameters. For more  information about model customization techniques available in Amazon Bedrock, see Custom  models.   \\u00e2\\\\u20ac\\u00a2 Hyperparameters \\u00e2\\\\u20ac\\\\u201c Values that can be adjusted for model customization to control the training  process and, consequently, the output custom model. For more information and definitions of  specific hyperparameters, see Custom model hyperparameters.   \\u00e2\\\\u20ac\\u00a2 Model evaluation \\u00e2\\\\u20ac\\\\u201c The process of evaluating and comparing model outputs in order to  determine the model that is best suited for a use case. For more information, see Model  evaluation.   \\u00e2\\\\u20ac\\u00a2 Provisioned Throughput \\u00e2\\\\u20ac\\\\u201c A level of throughput that you purchase for a base or custom model  in order to increase the amount and/or rate of tokens processed during model inference. When  you purchase Provisioned Throughput for a model, a provisioned model is created that can    Advanced features 6        Amazon Bedrock User Guide   be used to carry out model inference. For more information, see Provisioned Throughput for  Amazon Bedrock.   Advanced features 7        Amazon Bedrock User Guide   Set up Amazon Bedrock   Before you use Amazon Bedrock for the first time, complete the following tasks. Once you have set  up your account and requested model access in the console, you can set up the API.   Important   Before you can use any of the foundation models, you must request access to that model.  If you try to use the model (with the API or within the console) before you have requested  access to it, you will receive an error message. For more information, see Model access.    </content>    <source>        1    </source></search_result><search_result>    <content>        Models \\u00e2\\\\u20ac\\\\u201d Choose the model you want to use in the model evaluation job.   To learn more about available models and accessing them in Amazon Bedrock, see Model access.   d. (Optional) To change the inference configuration choose update.   Changing the inference configuration changes the responses generated by the selected  model. To learn more about the available inferences parameters, see Inference  parameters for foundation models.   Create a job 300    https://console.aws.amazon.com/bedrock/  https://console.aws.amazon.com/bedrock/home      Amazon Bedrock User Guide   e. Task type  \\u00e2\\\\u20ac\\\\u201d Choose the type of task you want the model to attempt to perform  during the model evaluation job.   f. Metrics and datasets \\u00e2\\\\u20ac\\\\u201d The list of available metrics and built-in prompt datasets  change based on the task you select. You can choose from the list of Available built- in datasets or you can choose Use your own prompt dataset. If you choose to use  your own prompt dataset, enter the exact S3 URI of your prompt dataset file or choose Browse S3 to search for your prompt data set.   g. >Evaluation results \\u00e2\\\\u20ac\\\\u201dSpecify the S3 URI of the directory where you want the results  saved. Choose Browse S3 to search for a location in Amazon S3.   h. (Optional) To enable the use of a customer managed key Choose Customize  encryption settings (advanced). Then, provide the ARN of the AWS KMS key you want  to use.   i. Amazon Bedrock IAM role \\u00e2\\\\u20ac\\\\u201d Choose Use an existing role to use IAM service role that  already has the required permissions, or choose Create a new role to create a new IAM  service role,   5. Then, choose Create.   Once your job has start the status changes . Once the status changes Completed, then you can  view the job's report card.    </content>    <source>        2    </source></search_result><search_result>    <content>        Ensure you take proper steps to train and notify them before they  work on the evaluation. They can decline and release tasks or take breaks during  the evaluation while accessing the human evaluation tool.   Human worker based model evaluation jobs 298        Amazon Bedrock User Guide   11. Then, choose Next.   12. On the Provide instruction page use the text editor to provide instructions for completing the  task. You can preview the evaluation UI that your work team uses to evaluate the responses,  including the metrics, rating methods, and your instructions. This preview is based on the  configuration you have created for this job.   13. Then, choose Next.   14. On the Review and create page, you can view a summary of the options you've selected in the  previous steps.   15. To start your model evaluation job, choose Create.   Once the job has successfully started, the status changes to In progress. When the job has finished,  the status changes to Completed. While a model evaluation job is still In progress, you can choose  to the stop the job before all the models' responses have been evaluated by your work team. To  do so, choose Stop evaluation on the model evaluation landing page. This will change the Status  of the model evaluation job to Stopping. Once the model evaluation job has successfully stopped,  you can delete the model evaluation job.   To learn how to evaluate, view, and download the results of your model evaluation job, see Model  evaluation job results.   Working with model evaluation jobs in Amazon Bedrock   The following sections provide sample procedures, and API operations that can be used to create,  describe, list, and stop both human-based and automatic model evaluation jobs.   Topics   \\u00e2\\\\u20ac\\u00a2 Creating model evaluation jobs   \\u00e2\\\\u20ac\\u00a2 Stopping a model evaluation job   \\u00e2\\\\u20ac\\u00a2 Finding model evaluation jobs you've already created   Creating model evaluation jobs   The follow in examples show you how to create a model evaluation job using the Amazon Bedrock  console, AWS CLI, SDK for Python   Working with jobs 299        Amazon Bedrock User Guide   Automatic model evaluation jobs   The follow examples demonstrate how to create an automatic model evaluation job. All automatic  model evaluation jobs require that you create IAM service role. To learn more about the IAM  requirements for setting up a model evaluation job, see Service role requirements for model  evaluation jobs.    </content>    <source>        3    </source></search_result><search_result>    <content>        For more information, see Agents for Amazon Bedrock.   Assessment and deployment   As you use Amazon Bedrock models, you need to to assess their performance and to deploy them  into your solutions.   Safeguards 171        Amazon Bedrock User Guide   With Model Evaluation, you can evaluate and compare model output, and then choose the one  best suited for your applications. Choose Assessment and deployment and then choose Model  evaluation.   When you configure Provisioned Throughput for a model, you receive a level of throughput at a  fixed cost. To provision throughput, choose Assessment and deployment in the navigation pane  and then Provisioned Throughput. For more information, see Provisioned Throughput for Amazon  Bedrock.   Model access   To use a model in Amazon Bedrock, you must first request access to the model. On the left  navigation pane, choose Model access. For more information, see Model access.   Model invocation logging   You can log model invocation events by choosing Settings in the left navigation pane. For more  information, see Model invocation logging.   Model access 172        Amazon Bedrock User Guide   Run model inference   Inference refers to the process of generating an output from an input provided to a model.  Foundation models use probability to construct the words in a sequence. Given an input, the model  predicts a probable sequence of tokens that follows, and returns that sequence as the output.  Amazon Bedrock provides you the capability of running inference in the foundation model of your  choice. When you run inference, you provide the following inputs.   \\u00e2\\\\u20ac\\u00a2 Prompt \\u00e2\\\\u20ac\\\\u201c An input provided to the model in order for it to generate a response. For information  about writing prompts, see  Prompt engineering guidelines.   \\u00e2\\\\u20ac\\u00a2 Inference parameters \\u00e2\\\\u20ac\\\\u201c A set of values that can be adjusted to limit or influence the model  response. For information about inference parameters, see Inference parameters and Inference  parameters for foundation models.   Amazon Bedrock offers a suite of foundation models that you can use to generate outputs of the  following modalities. To see modality support by foundation model, refer to Supported foundation  models in Amazon Bedrock.    </content>    <source>        4    </source></search_result><search_result>    <content>        Working with model evaluation jobs in Amazon Bedrock   The following sections provide sample procedures, and API operations that can be used to create,  describe, list, and stop both human-based and automatic model evaluation jobs.   Topics   \\u00e2\\\\u20ac\\u00a2 Creating model evaluation jobs   \\u00e2\\\\u20ac\\u00a2 Stopping a model evaluation job   \\u00e2\\\\u20ac\\u00a2 Finding model evaluation jobs you've already created   Creating model evaluation jobs   The follow in examples show you how to create a model evaluation job using the Amazon Bedrock  console, AWS CLI, SDK for Python   Working with jobs 299        Amazon Bedrock User Guide   Automatic model evaluation jobs   The follow examples demonstrate how to create an automatic model evaluation job. All automatic  model evaluation jobs require that you create IAM service role. To learn more about the IAM  requirements for setting up a model evaluation job, see Service role requirements for model  evaluation jobs.   Amazon Bedrock console   Use the following procedure to createa model evaluation job using the Amazon Bedrock  console. To successfully complete this procedure make sure that your IAM user, group, or role  has the sufficient permissions to access the console. To learn more, see Required permissions to  create a model evaluation job using the Amazon Bedrock console.   Also, any custom prompt datasets that you want to specify in the model evaluation job must  have the required CORS permissions added to the Amazon S3 bucket. To learn more about  adding the required CORS permissions see, Required Cross Origin Resource Sharing (CORS)  permission on S3 buckets.   To createan automatic model evaluation job   1. Open the Amazon Bedrock console: https://console.aws.amazon.com/bedrock/   2. In the navigation pane, choose Model evaluation.   3. In the Build an evaluation card, under Automatic choose Create automatic evaluation.   4. On the Create automatic evaluation page, provide the following information   a. Evaluation name \\u00e2\\\\u20ac\\\\u201d Give the model evaluation job a name that describes the job. This  name is shown in your model evaluation job list. The name must be unique in your  AWS account in an AWS Region.   b. Description (Optional) \\u00e2\\\\u20ac\\\\u201d Provide an optional description.   c. Models \\u00e2\\\\u20ac\\\\u201d Choose the model you want to use in the model evaluation job.   To learn more about available models and accessing them in Amazon Bedrock, see Model access.   d. (Optional) To change the inference configuration choose update.    </content>    <source>        5    </source></search_result></search_results>If you reference information from a search result within your answer, you must include a citation to source where the information was found. Each result has a corresponding source ID that you should reference.Note that <sources> may contain multiple <source> if you include information from multiple results in your answer.Do NOT directly quote the <search_results> in your answer. Your job is to answer the user's question as concisely as possible.You must output your answer in the following format. Pay attention and follow the formatting and spacing exactly:<answer><answer_part><text>first answer text</text><sources><source>source ID</source></sources></answer_part><answer_part><text>second answer text</text><sources><source>source ID</source></sources></answer_part></answer>\\\",\\\"messages\\\":[{\\\"content\\\":\\\"How can I evaluate models on Bedrock?\\\",\\\"role\\\":\\\"user\\\"}]}\",\n",
      "        \"traceId\": \"4db03a12-d5a2-4acf-aea5-e804020994f7-KB-0\",\n",
      "        \"type\": \"KNOWLEDGE_BASE_RESPONSE_GENERATION\"\n",
      "      }\n",
      "    }\n",
      "  }\n",
      "}\n",
      "[2024-10-03 12:35:32,331] p1019363 {<timed exec>:11} INFO - {\n",
      "  \"agentAliasId\": \"C075XGKMDI\",\n",
      "  \"agentId\": \"CHGGV5HMUG\",\n",
      "  \"agentVersion\": \"1\",\n",
      "  \"sessionId\": \"7a8266ac-81a5-11ef-a932-2f18ffe82f68\",\n",
      "  \"trace\": {\n",
      "    \"orchestrationTrace\": {\n",
      "      \"observation\": {\n",
      "        \"finalResponse\": {\n",
      "          \"text\": \"You can evaluate models on Amazon Bedrock using the Model Evaluation feature. With Model Evaluation, you can evaluate and compare the output of different models to determine which one is best suited for your application. You can create either an automatic model evaluation job or a human worker-based model evaluation job. For an automatic model evaluation job, you need to specify the models to evaluate, the task type (e.g. text generation), metrics and datasets to use, and where to store the results. You also need to create or use an existing IAM service role with the required permissions. You can create an automatic model evaluation job through the Amazon Bedrock console, AWS CLI, or SDKs. For a human worker-based model evaluation job, you create a work team of human workers who will evaluate the model outputs based on your instructions and rating criteria. You provide instructions and preview the evaluation UI when setting up the job. These jobs allow for more subjective evaluation of model outputs.\"\n",
      "        },\n",
      "        \"traceId\": \"4db03a12-d5a2-4acf-aea5-e804020994f7-1\",\n",
      "        \"type\": \"FINISH\"\n",
      "      }\n",
      "    }\n",
      "  }\n",
      "}\n",
      "[2024-10-03 12:35:32,340] p1019363 {<timed exec>:6} INFO - Final answer ->\n",
      "You can evaluate models on Amazon Bedrock using the Model Evaluation feature. With Model Evaluation, you can evaluate and compare the output of different models to determine which one is best suited for your application. You can create either an automatic model evaluation job or a human worker-based model evaluation job. For an automatic model evaluation job, you need to specify the models to evaluate, the task type (e.g. text generation), metrics and datasets to use, and where to store the results. You also need to create or use an existing IAM service role with the required permissions. You can create an automatic model evaluation job through the Amazon Bedrock console, AWS CLI, or SDKs. For a human worker-based model evaluation job, you create a work team of human workers who will evaluate the model outputs based on your instructions and rating criteria. You provide instructions and preview the evaluation UI when setting up the job. These jobs allow for more subjective evaluation of model outputs.\n"
     ]
    },
    {
     "name": "stdout",
     "output_type": "stream",
     "text": [
      "CPU times: user 18.8 ms, sys: 921 μs, total: 19.7 ms\n",
      "Wall time: 3.58 s\n"
     ]
    }
   ],
   "source": [
    "%%time\n",
    "event_stream = agentResponse['completion']\n",
    "try:\n",
    "    for event in event_stream:        \n",
    "        if 'chunk' in event:\n",
    "            data = event['chunk']['bytes']\n",
    "            logger.info(f\"Final answer ->\\n{data.decode('utf8')}\")\n",
    "            agent_answer = data.decode('utf8')\n",
    "            end_event_received = True\n",
    "            # End event indicates that the request finished successfully\n",
    "        elif 'trace' in event:\n",
    "            logger.info(json.dumps(event['trace'], indent=2))\n",
    "        else:\n",
    "            raise Exception(\"unexpected event.\", event)\n",
    "except Exception as e:\n",
    "    raise Exception(\"unexpected event.\", e)"
   ]
  },
  {
   "cell_type": "code",
   "execution_count": 37,
   "id": "28fc780b-d700-4d89-bd23-2e183e03875d",
   "metadata": {
    "pycharm": {
     "name": "#%%\n"
    },
    "tags": []
   },
   "outputs": [
    {
     "name": "stdout",
     "output_type": "stream",
     "text": [
      "You can evaluate models on Amazon Bedrock using the Model Evaluation feature. With Model Evaluation, you can evaluate and compare the output of different models to determine which one is best suited for your application. You can create either an automatic model evaluation job or a human worker-based model evaluation job. For an automatic model evaluation job, you need to specify the models to evaluate, the task type (e.g. text generation), metrics and datasets to use, and where to store the results. You also need to create or use an existing IAM service role with the required permissions. You can create an automatic model evaluation job through the Amazon Bedrock console, AWS CLI, or SDKs. For a human worker-based model evaluation job, you create a work team of human workers who will evaluate the model outputs based on your instructions and rating criteria. You provide instructions and preview the evaluation UI when setting up the job. These jobs allow for more subjective evaluation of model outputs.\n"
     ]
    }
   ],
   "source": [
    "# And here is the response if you just want to see agent's reply\n",
    "print(agent_answer)"
   ]
  },
  {
   "cell_type": "code",
   "execution_count": 38,
   "id": "7bf20e96",
   "metadata": {
    "pycharm": {
     "name": "#%%\n"
    }
   },
   "outputs": [],
   "source": [
    "def simple_agent_invoke(input_text, agent_id, agent_alias_id, session_id=None, enable_trace=False, end_session=False):\n",
    "    if session_id is None:\n",
    "        session_id:str = str(uuid.uuid1())\n",
    "\n",
    "    agentResponse = bedrock_agent_runtime_client.invoke_agent(\n",
    "        inputText=input_text,\n",
    "        agentId=agent_id,\n",
    "        agentAliasId=agent_alias_id, \n",
    "        sessionId=session_id,\n",
    "        enableTrace=enable_trace, \n",
    "        endSession= end_session\n",
    "    )\n",
    "    logger.info(pprint.pprint(agentResponse))\n",
    "    \n",
    "    agent_answer = ''\n",
    "    event_stream = agentResponse['completion']\n",
    "    try:\n",
    "        for event in event_stream:        \n",
    "            if 'chunk' in event:\n",
    "                data = event['chunk']['bytes']\n",
    "                logger.info(f\"Final answer ->\\n{data.decode('utf8')}\")\n",
    "                agent_answer = data.decode('utf8')\n",
    "                end_event_received = True\n",
    "                # End event indicates that the request finished successfully\n",
    "            elif 'trace' in event:\n",
    "                logger.info(json.dumps(event['trace'], indent=2))\n",
    "            else:\n",
    "                raise Exception(\"unexpected event.\", event)\n",
    "    except Exception as e:\n",
    "        raise Exception(\"unexpected event.\", e)\n",
    "    return agent_answer"
   ]
  },
  {
   "cell_type": "code",
   "execution_count": 39,
   "id": "a6cae6e9",
   "metadata": {
    "pycharm": {
     "name": "#%%\n"
    }
   },
   "outputs": [
    {
     "name": "stderr",
     "output_type": "stream",
     "text": [
      "[2024-10-03 12:35:58,895] p1019363 {321621934.py:13} INFO - None\n"
     ]
    },
    {
     "name": "stdout",
     "output_type": "stream",
     "text": [
      "{'ResponseMetadata': {'HTTPHeaders': {'connection': 'keep-alive',\n",
      "                                      'content-type': 'application/json',\n",
      "                                      'date': 'Thu, 03 Oct 2024 16:35:58 GMT',\n",
      "                                      'transfer-encoding': 'chunked',\n",
      "                                      'x-amz-bedrock-agent-session-id': '7a8266ac-81a5-11ef-a932-2f18ffe82f68',\n",
      "                                      'x-amzn-bedrock-agent-content-type': 'application/json',\n",
      "                                      'x-amzn-requestid': '00aa1a95-043a-4075-aa7a-c2b8f3e775e0'},\n",
      "                      'HTTPStatusCode': 200,\n",
      "                      'RequestId': '00aa1a95-043a-4075-aa7a-c2b8f3e775e0',\n",
      "                      'RetryAttempts': 0},\n",
      " 'completion': <botocore.eventstream.EventStream object at 0x7fcf0c195390>,\n",
      " 'contentType': 'application/json',\n",
      " 'sessionId': '7a8266ac-81a5-11ef-a932-2f18ffe82f68'}\n"
     ]
    },
    {
     "name": "stderr",
     "output_type": "stream",
     "text": [
      "[2024-10-03 12:36:17,136] p1019363 {321621934.py:21} INFO - Final answer ->\n",
      "Amazon Bedrock provisioned throughput allows you to purchase a guaranteed level of throughput for running inference on Amazon Bedrock models. With provisioned throughput, you commit to a certain number of model units (MUs) for a set duration (no commitment, 1 month, or 6 months). The longer the commitment duration, the more discounted the hourly price becomes. Provisioned throughput helps ensure consistent performance and availability for your model inference workloads.\n"
     ]
    },
    {
     "data": {
      "text/plain": [
       "'Amazon Bedrock provisioned throughput allows you to purchase a guaranteed level of throughput for running inference on Amazon Bedrock models. With provisioned throughput, you commit to a certain number of model units (MUs) for a set duration (no commitment, 1 month, or 6 months). The longer the commitment duration, the more discounted the hourly price becomes. Provisioned throughput helps ensure consistent performance and availability for your model inference workloads.'"
      ]
     },
     "execution_count": 39,
     "metadata": {},
     "output_type": "execute_result"
    }
   ],
   "source": [
    "simple_agent_invoke(\"what is bedrock provisioned throughput?\", agent_id, agent_alias_id, session_id)"
   ]
  },
  {
   "cell_type": "code",
   "execution_count": null,
   "id": "c4b99e1d",
   "metadata": {
    "pycharm": {
     "name": "#%%\n"
    }
   },
   "outputs": [],
   "source": [
    "simple_agent_invoke(\"what are the components of a Bedrock Guardrail?\", agent_id, agent_alias_id, session_id)"
   ]
  },
  {
   "cell_type": "code",
   "execution_count": null,
   "id": "9e9a37f1",
   "metadata": {
    "pycharm": {
     "name": "#%%\n"
    }
   },
   "outputs": [],
   "source": [
    "simple_agent_invoke(\"what are the components of a Bedrock Guardrail?\", agent_id, agent_alias_id, session_id)"
   ]
  },
  {
   "cell_type": "markdown",
   "id": "77e4a008-2176-499a-9fad-93a69ae5cfe0",
   "metadata": {
    "pycharm": {
     "name": "#%% md\n"
    }
   },
   "source": [
    "## 6 - Clean up (Optional)\n",
    "\n",
    "The next steps are optional and demonstrate how to delete our agent. To delete the agent we need to:\n",
    "\n",
    "1. delete agent alias\n",
    "1. delete agent\n",
    "1. delete the knowledge base\n",
    "1. delete the OpenSearch Serverless vector store\n",
    "1. empty created s3 bucket\n",
    "1. delete s3 bucket\n"
   ]
  },
  {
   "cell_type": "code",
   "execution_count": null,
   "id": "bd1c3418-dc37-4185-818a-743485ecb2b7",
   "metadata": {
    "pycharm": {
     "name": "#%%\n"
    },
    "tags": []
   },
   "outputs": [],
   "source": [
    "agent_alias_deletion = bedrock_agent_client.delete_agent_alias(\n",
    "    agentId=agent_id,\n",
    "    agentAliasId=agent_alias['agentAlias']['agentAliasId']\n",
    ")"
   ]
  },
  {
   "cell_type": "code",
   "execution_count": null,
   "id": "a7d3f07d-fee1-485c-aee8-03fe98f55257",
   "metadata": {
    "pycharm": {
     "name": "#%%\n"
    },
    "tags": []
   },
   "outputs": [],
   "source": [
    "agent_deletion = bedrock_agent_client.delete_agent(\n",
    "    agentId=agent_id\n",
    ")"
   ]
  },
  {
   "cell_type": "code",
   "execution_count": null,
   "id": "b6302823-3fb0-43f2-a926-590fb04e7036",
   "metadata": {
    "pycharm": {
     "name": "#%%\n"
    },
    "tags": []
   },
   "outputs": [],
   "source": [
    "# Empty and delete S3 Bucket\n",
    "\n",
    "objects = s3_client.list_objects(Bucket=bucket_name)  \n",
    "if 'Contents' in objects:\n",
    "    for obj in objects['Contents']:\n",
    "        s3_client.delete_object(Bucket=bucket_name, Key=obj['Key']) \n",
    "s3_client.delete_bucket(Bucket=bucket_name)"
   ]
  },
  {
   "cell_type": "code",
   "execution_count": null,
   "id": "877f8d8b-5dfc-4f43-882b-176a27475363",
   "metadata": {
    "pycharm": {
     "name": "#%%\n"
    },
    "tags": []
   },
   "outputs": [],
   "source": [
    "# Delete IAM Roles and policies and Knowledge Base files\n",
    "for policy in [\n",
    "    agent_bedrock_policy, \n",
    "    agent_kb_schema_policy,\n",
    "    kb_bedrock_policy,\n",
    "    kb_aoss_policy,\n",
    "    kb_s3_policy\n",
    "]:\n",
    "    response = iam_client.list_entities_for_policy(\n",
    "        PolicyArn=policy['Policy']['Arn'],\n",
    "        EntityFilter='Role'\n",
    "    )\n",
    "\n",
    "    for role in response['PolicyRoles']:\n",
    "        iam_client.detach_role_policy(\n",
    "            RoleName=role['RoleName'], \n",
    "            PolicyArn=policy['Policy']['Arn']\n",
    "        )\n",
    "\n",
    "    iam_client.delete_policy(\n",
    "        PolicyArn=policy['Policy']['Arn']\n",
    "    )\n",
    "\n",
    "    \n",
    "\n",
    "for role_name in [\n",
    "    agent_role_name, \n",
    "    kb_role_name\n",
    "]:\n",
    "    try: \n",
    "        iam_client.delete_role(\n",
    "            RoleName=role_name\n",
    "        )\n",
    "    except Exception as e:\n",
    "        print(e)\n",
    "        print(\"couldn't delete role\", role_name)\n",
    "        \n",
    "    \n",
    "try:\n",
    "\n",
    "    open_search_serverless_client.delete_collection(\n",
    "        id=opensearch_collection_response[\"createCollectionDetail\"][\"id\"]\n",
    "    )\n",
    "\n",
    "    open_search_serverless_client.delete_access_policy(\n",
    "          name=kb_collection_name,\n",
    "          type='data'\n",
    "    )    \n",
    "\n",
    "    open_search_serverless_client.delete_security_policy(\n",
    "          name=kb_collection_name,\n",
    "          type='network'\n",
    "    )   \n",
    "\n",
    "    open_search_serverless_client.delete_security_policy(\n",
    "          name=kb_collection_name,\n",
    "          type='encryption'\n",
    "    )    \n",
    "    bedrock_agent_client.delete_knowledge_base(\n",
    "        knowledgeBaseId=knowledge_base_id\n",
    "    )\n",
    "except Exception as e:\n",
    "    print(e)"
   ]
  },
  {
   "cell_type": "markdown",
   "id": "15cbc834-c71f-40ae-8a12-6bc2b527ad9b",
   "metadata": {
    "pycharm": {
     "name": "#%% md\n"
    }
   },
   "source": [
    "## Conclusion\n",
    "\n",
    "We have now experimented with using boto3 SDK to create, invoke and delete an agent having a single KB connected to it.\n",
    "## Take aways\n",
    "\n",
    "Adapt this notebook to create new agents for your application\n",
    "\n",
    "## Thank You"
   ]
  }
 ],
 "metadata": {
  "availableInstances": [
   {
    "_defaultOrder": 0,
    "_isFastLaunch": true,
    "category": "General purpose",
    "gpuNum": 0,
    "hideHardwareSpecs": false,
    "memoryGiB": 4,
    "name": "ml.t3.medium",
    "vcpuNum": 2
   },
   {
    "_defaultOrder": 1,
    "_isFastLaunch": false,
    "category": "General purpose",
    "gpuNum": 0,
    "hideHardwareSpecs": false,
    "memoryGiB": 8,
    "name": "ml.t3.large",
    "vcpuNum": 2
   },
   {
    "_defaultOrder": 2,
    "_isFastLaunch": false,
    "category": "General purpose",
    "gpuNum": 0,
    "hideHardwareSpecs": false,
    "memoryGiB": 16,
    "name": "ml.t3.xlarge",
    "vcpuNum": 4
   },
   {
    "_defaultOrder": 3,
    "_isFastLaunch": false,
    "category": "General purpose",
    "gpuNum": 0,
    "hideHardwareSpecs": false,
    "memoryGiB": 32,
    "name": "ml.t3.2xlarge",
    "vcpuNum": 8
   },
   {
    "_defaultOrder": 4,
    "_isFastLaunch": true,
    "category": "General purpose",
    "gpuNum": 0,
    "hideHardwareSpecs": false,
    "memoryGiB": 8,
    "name": "ml.m5.large",
    "vcpuNum": 2
   },
   {
    "_defaultOrder": 5,
    "_isFastLaunch": false,
    "category": "General purpose",
    "gpuNum": 0,
    "hideHardwareSpecs": false,
    "memoryGiB": 16,
    "name": "ml.m5.xlarge",
    "vcpuNum": 4
   },
   {
    "_defaultOrder": 6,
    "_isFastLaunch": false,
    "category": "General purpose",
    "gpuNum": 0,
    "hideHardwareSpecs": false,
    "memoryGiB": 32,
    "name": "ml.m5.2xlarge",
    "vcpuNum": 8
   },
   {
    "_defaultOrder": 7,
    "_isFastLaunch": false,
    "category": "General purpose",
    "gpuNum": 0,
    "hideHardwareSpecs": false,
    "memoryGiB": 64,
    "name": "ml.m5.4xlarge",
    "vcpuNum": 16
   },
   {
    "_defaultOrder": 8,
    "_isFastLaunch": false,
    "category": "General purpose",
    "gpuNum": 0,
    "hideHardwareSpecs": false,
    "memoryGiB": 128,
    "name": "ml.m5.8xlarge",
    "vcpuNum": 32
   },
   {
    "_defaultOrder": 9,
    "_isFastLaunch": false,
    "category": "General purpose",
    "gpuNum": 0,
    "hideHardwareSpecs": false,
    "memoryGiB": 192,
    "name": "ml.m5.12xlarge",
    "vcpuNum": 48
   },
   {
    "_defaultOrder": 10,
    "_isFastLaunch": false,
    "category": "General purpose",
    "gpuNum": 0,
    "hideHardwareSpecs": false,
    "memoryGiB": 256,
    "name": "ml.m5.16xlarge",
    "vcpuNum": 64
   },
   {
    "_defaultOrder": 11,
    "_isFastLaunch": false,
    "category": "General purpose",
    "gpuNum": 0,
    "hideHardwareSpecs": false,
    "memoryGiB": 384,
    "name": "ml.m5.24xlarge",
    "vcpuNum": 96
   },
   {
    "_defaultOrder": 12,
    "_isFastLaunch": false,
    "category": "General purpose",
    "gpuNum": 0,
    "hideHardwareSpecs": false,
    "memoryGiB": 8,
    "name": "ml.m5d.large",
    "vcpuNum": 2
   },
   {
    "_defaultOrder": 13,
    "_isFastLaunch": false,
    "category": "General purpose",
    "gpuNum": 0,
    "hideHardwareSpecs": false,
    "memoryGiB": 16,
    "name": "ml.m5d.xlarge",
    "vcpuNum": 4
   },
   {
    "_defaultOrder": 14,
    "_isFastLaunch": false,
    "category": "General purpose",
    "gpuNum": 0,
    "hideHardwareSpecs": false,
    "memoryGiB": 32,
    "name": "ml.m5d.2xlarge",
    "vcpuNum": 8
   },
   {
    "_defaultOrder": 15,
    "_isFastLaunch": false,
    "category": "General purpose",
    "gpuNum": 0,
    "hideHardwareSpecs": false,
    "memoryGiB": 64,
    "name": "ml.m5d.4xlarge",
    "vcpuNum": 16
   },
   {
    "_defaultOrder": 16,
    "_isFastLaunch": false,
    "category": "General purpose",
    "gpuNum": 0,
    "hideHardwareSpecs": false,
    "memoryGiB": 128,
    "name": "ml.m5d.8xlarge",
    "vcpuNum": 32
   },
   {
    "_defaultOrder": 17,
    "_isFastLaunch": false,
    "category": "General purpose",
    "gpuNum": 0,
    "hideHardwareSpecs": false,
    "memoryGiB": 192,
    "name": "ml.m5d.12xlarge",
    "vcpuNum": 48
   },
   {
    "_defaultOrder": 18,
    "_isFastLaunch": false,
    "category": "General purpose",
    "gpuNum": 0,
    "hideHardwareSpecs": false,
    "memoryGiB": 256,
    "name": "ml.m5d.16xlarge",
    "vcpuNum": 64
   },
   {
    "_defaultOrder": 19,
    "_isFastLaunch": false,
    "category": "General purpose",
    "gpuNum": 0,
    "hideHardwareSpecs": false,
    "memoryGiB": 384,
    "name": "ml.m5d.24xlarge",
    "vcpuNum": 96
   },
   {
    "_defaultOrder": 20,
    "_isFastLaunch": false,
    "category": "General purpose",
    "gpuNum": 0,
    "hideHardwareSpecs": true,
    "memoryGiB": 0,
    "name": "ml.geospatial.interactive",
    "supportedImageNames": [
     "sagemaker-geospatial-v1-0"
    ],
    "vcpuNum": 0
   },
   {
    "_defaultOrder": 21,
    "_isFastLaunch": true,
    "category": "Compute optimized",
    "gpuNum": 0,
    "hideHardwareSpecs": false,
    "memoryGiB": 4,
    "name": "ml.c5.large",
    "vcpuNum": 2
   },
   {
    "_defaultOrder": 22,
    "_isFastLaunch": false,
    "category": "Compute optimized",
    "gpuNum": 0,
    "hideHardwareSpecs": false,
    "memoryGiB": 8,
    "name": "ml.c5.xlarge",
    "vcpuNum": 4
   },
   {
    "_defaultOrder": 23,
    "_isFastLaunch": false,
    "category": "Compute optimized",
    "gpuNum": 0,
    "hideHardwareSpecs": false,
    "memoryGiB": 16,
    "name": "ml.c5.2xlarge",
    "vcpuNum": 8
   },
   {
    "_defaultOrder": 24,
    "_isFastLaunch": false,
    "category": "Compute optimized",
    "gpuNum": 0,
    "hideHardwareSpecs": false,
    "memoryGiB": 32,
    "name": "ml.c5.4xlarge",
    "vcpuNum": 16
   },
   {
    "_defaultOrder": 25,
    "_isFastLaunch": false,
    "category": "Compute optimized",
    "gpuNum": 0,
    "hideHardwareSpecs": false,
    "memoryGiB": 72,
    "name": "ml.c5.9xlarge",
    "vcpuNum": 36
   },
   {
    "_defaultOrder": 26,
    "_isFastLaunch": false,
    "category": "Compute optimized",
    "gpuNum": 0,
    "hideHardwareSpecs": false,
    "memoryGiB": 96,
    "name": "ml.c5.12xlarge",
    "vcpuNum": 48
   },
   {
    "_defaultOrder": 27,
    "_isFastLaunch": false,
    "category": "Compute optimized",
    "gpuNum": 0,
    "hideHardwareSpecs": false,
    "memoryGiB": 144,
    "name": "ml.c5.18xlarge",
    "vcpuNum": 72
   },
   {
    "_defaultOrder": 28,
    "_isFastLaunch": false,
    "category": "Compute optimized",
    "gpuNum": 0,
    "hideHardwareSpecs": false,
    "memoryGiB": 192,
    "name": "ml.c5.24xlarge",
    "vcpuNum": 96
   },
   {
    "_defaultOrder": 29,
    "_isFastLaunch": true,
    "category": "Accelerated computing",
    "gpuNum": 1,
    "hideHardwareSpecs": false,
    "memoryGiB": 16,
    "name": "ml.g4dn.xlarge",
    "vcpuNum": 4
   },
   {
    "_defaultOrder": 30,
    "_isFastLaunch": false,
    "category": "Accelerated computing",
    "gpuNum": 1,
    "hideHardwareSpecs": false,
    "memoryGiB": 32,
    "name": "ml.g4dn.2xlarge",
    "vcpuNum": 8
   },
   {
    "_defaultOrder": 31,
    "_isFastLaunch": false,
    "category": "Accelerated computing",
    "gpuNum": 1,
    "hideHardwareSpecs": false,
    "memoryGiB": 64,
    "name": "ml.g4dn.4xlarge",
    "vcpuNum": 16
   },
   {
    "_defaultOrder": 32,
    "_isFastLaunch": false,
    "category": "Accelerated computing",
    "gpuNum": 1,
    "hideHardwareSpecs": false,
    "memoryGiB": 128,
    "name": "ml.g4dn.8xlarge",
    "vcpuNum": 32
   },
   {
    "_defaultOrder": 33,
    "_isFastLaunch": false,
    "category": "Accelerated computing",
    "gpuNum": 4,
    "hideHardwareSpecs": false,
    "memoryGiB": 192,
    "name": "ml.g4dn.12xlarge",
    "vcpuNum": 48
   },
   {
    "_defaultOrder": 34,
    "_isFastLaunch": false,
    "category": "Accelerated computing",
    "gpuNum": 1,
    "hideHardwareSpecs": false,
    "memoryGiB": 256,
    "name": "ml.g4dn.16xlarge",
    "vcpuNum": 64
   },
   {
    "_defaultOrder": 35,
    "_isFastLaunch": false,
    "category": "Accelerated computing",
    "gpuNum": 1,
    "hideHardwareSpecs": false,
    "memoryGiB": 61,
    "name": "ml.p3.2xlarge",
    "vcpuNum": 8
   },
   {
    "_defaultOrder": 36,
    "_isFastLaunch": false,
    "category": "Accelerated computing",
    "gpuNum": 4,
    "hideHardwareSpecs": false,
    "memoryGiB": 244,
    "name": "ml.p3.8xlarge",
    "vcpuNum": 32
   },
   {
    "_defaultOrder": 37,
    "_isFastLaunch": false,
    "category": "Accelerated computing",
    "gpuNum": 8,
    "hideHardwareSpecs": false,
    "memoryGiB": 488,
    "name": "ml.p3.16xlarge",
    "vcpuNum": 64
   },
   {
    "_defaultOrder": 38,
    "_isFastLaunch": false,
    "category": "Accelerated computing",
    "gpuNum": 8,
    "hideHardwareSpecs": false,
    "memoryGiB": 768,
    "name": "ml.p3dn.24xlarge",
    "vcpuNum": 96
   },
   {
    "_defaultOrder": 39,
    "_isFastLaunch": false,
    "category": "Memory Optimized",
    "gpuNum": 0,
    "hideHardwareSpecs": false,
    "memoryGiB": 16,
    "name": "ml.r5.large",
    "vcpuNum": 2
   },
   {
    "_defaultOrder": 40,
    "_isFastLaunch": false,
    "category": "Memory Optimized",
    "gpuNum": 0,
    "hideHardwareSpecs": false,
    "memoryGiB": 32,
    "name": "ml.r5.xlarge",
    "vcpuNum": 4
   },
   {
    "_defaultOrder": 41,
    "_isFastLaunch": false,
    "category": "Memory Optimized",
    "gpuNum": 0,
    "hideHardwareSpecs": false,
    "memoryGiB": 64,
    "name": "ml.r5.2xlarge",
    "vcpuNum": 8
   },
   {
    "_defaultOrder": 42,
    "_isFastLaunch": false,
    "category": "Memory Optimized",
    "gpuNum": 0,
    "hideHardwareSpecs": false,
    "memoryGiB": 128,
    "name": "ml.r5.4xlarge",
    "vcpuNum": 16
   },
   {
    "_defaultOrder": 43,
    "_isFastLaunch": false,
    "category": "Memory Optimized",
    "gpuNum": 0,
    "hideHardwareSpecs": false,
    "memoryGiB": 256,
    "name": "ml.r5.8xlarge",
    "vcpuNum": 32
   },
   {
    "_defaultOrder": 44,
    "_isFastLaunch": false,
    "category": "Memory Optimized",
    "gpuNum": 0,
    "hideHardwareSpecs": false,
    "memoryGiB": 384,
    "name": "ml.r5.12xlarge",
    "vcpuNum": 48
   },
   {
    "_defaultOrder": 45,
    "_isFastLaunch": false,
    "category": "Memory Optimized",
    "gpuNum": 0,
    "hideHardwareSpecs": false,
    "memoryGiB": 512,
    "name": "ml.r5.16xlarge",
    "vcpuNum": 64
   },
   {
    "_defaultOrder": 46,
    "_isFastLaunch": false,
    "category": "Memory Optimized",
    "gpuNum": 0,
    "hideHardwareSpecs": false,
    "memoryGiB": 768,
    "name": "ml.r5.24xlarge",
    "vcpuNum": 96
   },
   {
    "_defaultOrder": 47,
    "_isFastLaunch": false,
    "category": "Accelerated computing",
    "gpuNum": 1,
    "hideHardwareSpecs": false,
    "memoryGiB": 16,
    "name": "ml.g5.xlarge",
    "vcpuNum": 4
   },
   {
    "_defaultOrder": 48,
    "_isFastLaunch": false,
    "category": "Accelerated computing",
    "gpuNum": 1,
    "hideHardwareSpecs": false,
    "memoryGiB": 32,
    "name": "ml.g5.2xlarge",
    "vcpuNum": 8
   },
   {
    "_defaultOrder": 49,
    "_isFastLaunch": false,
    "category": "Accelerated computing",
    "gpuNum": 1,
    "hideHardwareSpecs": false,
    "memoryGiB": 64,
    "name": "ml.g5.4xlarge",
    "vcpuNum": 16
   },
   {
    "_defaultOrder": 50,
    "_isFastLaunch": false,
    "category": "Accelerated computing",
    "gpuNum": 1,
    "hideHardwareSpecs": false,
    "memoryGiB": 128,
    "name": "ml.g5.8xlarge",
    "vcpuNum": 32
   },
   {
    "_defaultOrder": 51,
    "_isFastLaunch": false,
    "category": "Accelerated computing",
    "gpuNum": 1,
    "hideHardwareSpecs": false,
    "memoryGiB": 256,
    "name": "ml.g5.16xlarge",
    "vcpuNum": 64
   },
   {
    "_defaultOrder": 52,
    "_isFastLaunch": false,
    "category": "Accelerated computing",
    "gpuNum": 4,
    "hideHardwareSpecs": false,
    "memoryGiB": 192,
    "name": "ml.g5.12xlarge",
    "vcpuNum": 48
   },
   {
    "_defaultOrder": 53,
    "_isFastLaunch": false,
    "category": "Accelerated computing",
    "gpuNum": 4,
    "hideHardwareSpecs": false,
    "memoryGiB": 384,
    "name": "ml.g5.24xlarge",
    "vcpuNum": 96
   },
   {
    "_defaultOrder": 54,
    "_isFastLaunch": false,
    "category": "Accelerated computing",
    "gpuNum": 8,
    "hideHardwareSpecs": false,
    "memoryGiB": 768,
    "name": "ml.g5.48xlarge",
    "vcpuNum": 192
   },
   {
    "_defaultOrder": 55,
    "_isFastLaunch": false,
    "category": "Accelerated computing",
    "gpuNum": 8,
    "hideHardwareSpecs": false,
    "memoryGiB": 1152,
    "name": "ml.p4d.24xlarge",
    "vcpuNum": 96
   },
   {
    "_defaultOrder": 56,
    "_isFastLaunch": false,
    "category": "Accelerated computing",
    "gpuNum": 8,
    "hideHardwareSpecs": false,
    "memoryGiB": 1152,
    "name": "ml.p4de.24xlarge",
    "vcpuNum": 96
   },
   {
    "_defaultOrder": 57,
    "_isFastLaunch": false,
    "category": "Accelerated computing",
    "gpuNum": 0,
    "hideHardwareSpecs": false,
    "memoryGiB": 32,
    "name": "ml.trn1.2xlarge",
    "vcpuNum": 8
   },
   {
    "_defaultOrder": 58,
    "_isFastLaunch": false,
    "category": "Accelerated computing",
    "gpuNum": 0,
    "hideHardwareSpecs": false,
    "memoryGiB": 512,
    "name": "ml.trn1.32xlarge",
    "vcpuNum": 128
   },
   {
    "_defaultOrder": 59,
    "_isFastLaunch": false,
    "category": "Accelerated computing",
    "gpuNum": 0,
    "hideHardwareSpecs": false,
    "memoryGiB": 512,
    "name": "ml.trn1n.32xlarge",
    "vcpuNum": 128
   }
  ],
  "instance_type": "ml.t3.medium",
  "kernelspec": {
   "display_name": ".venv",
   "language": "python",
   "name": "python3"
  },
  "language_info": {
   "codemirror_mode": {
    "name": "ipython",
    "version": 3
   },
   "file_extension": ".py",
   "mimetype": "text/x-python",
   "name": "python",
   "nbconvert_exporter": "python",
   "pygments_lexer": "ipython3",
   "version": "3.10.12"
  }
 },
 "nbformat": 4,
 "nbformat_minor": 5
}
